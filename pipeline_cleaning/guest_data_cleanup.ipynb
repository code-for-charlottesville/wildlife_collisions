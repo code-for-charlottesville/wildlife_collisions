{
 "cells": [
  {
   "cell_type": "code",
   "execution_count": 1,
   "metadata": {},
   "outputs": [],
   "source": [
    "import pandas as pd"
   ]
  },
  {
   "cell_type": "code",
   "execution_count": 2,
   "metadata": {},
   "outputs": [],
   "source": [
    "# Read in an csv file\n",
    "df = pd.read_csv('report_guest_data_va.csv', header=1)"
   ]
  },
  {
   "cell_type": "code",
   "execution_count": 3,
   "metadata": {},
   "outputs": [
    {
     "data": {
      "text/html": [
       "<div>\n",
       "<style scoped>\n",
       "    .dataframe tbody tr th:only-of-type {\n",
       "        vertical-align: middle;\n",
       "    }\n",
       "\n",
       "    .dataframe tbody tr th {\n",
       "        vertical-align: top;\n",
       "    }\n",
       "\n",
       "    .dataframe thead th {\n",
       "        text-align: right;\n",
       "    }\n",
       "</style>\n",
       "<table border=\"1\" class=\"dataframe\">\n",
       "  <thead>\n",
       "    <tr style=\"text-align: right;\">\n",
       "      <th></th>\n",
       "      <th>Organization Name</th>\n",
       "      <th>Organization Address</th>\n",
       "      <th>Organization City</th>\n",
       "      <th>Organization State</th>\n",
       "      <th>Organization ZIP</th>\n",
       "      <th>Jurisdiction</th>\n",
       "      <th>Organization Country</th>\n",
       "      <th>Phone</th>\n",
       "      <th>Status</th>\n",
       "      <th>Case Number</th>\n",
       "      <th>...</th>\n",
       "      <th>Primary</th>\n",
       "      <th>Suspected/Observed</th>\n",
       "      <th>Admission Comments</th>\n",
       "      <th>Rescue State</th>\n",
       "      <th>Rescue Juristiction</th>\n",
       "      <th>Rescue Address</th>\n",
       "      <th>Other Rescue Information</th>\n",
       "      <th>Latitude</th>\n",
       "      <th>Longitude</th>\n",
       "      <th>Elevation</th>\n",
       "    </tr>\n",
       "  </thead>\n",
       "  <tbody>\n",
       "    <tr>\n",
       "      <th>0</th>\n",
       "      <td>Visitor WILD-ONe Account</td>\n",
       "      <td>1800 South Delphine Ave PO Box 1557</td>\n",
       "      <td>Waynesboro</td>\n",
       "      <td>VA</td>\n",
       "      <td>22980</td>\n",
       "      <td>Waynesboro (City)</td>\n",
       "      <td>United States</td>\n",
       "      <td>(540) 942-9453</td>\n",
       "      <td>Active</td>\n",
       "      <td>10-0000095</td>\n",
       "      <td>...</td>\n",
       "      <td>Yes</td>\n",
       "      <td>Suspected</td>\n",
       "      <td>NaN</td>\n",
       "      <td>ID</td>\n",
       "      <td>Boise County</td>\n",
       "      <td>NaN</td>\n",
       "      <td>NaN</td>\n",
       "      <td>43.612476</td>\n",
       "      <td>-116.216784</td>\n",
       "      <td>817.056641</td>\n",
       "    </tr>\n",
       "    <tr>\n",
       "      <th>1</th>\n",
       "      <td>Visitor WILD-ONe Account</td>\n",
       "      <td>1800 South Delphine Ave PO Box 1557</td>\n",
       "      <td>Waynesboro</td>\n",
       "      <td>VA</td>\n",
       "      <td>22980</td>\n",
       "      <td>Waynesboro (City)</td>\n",
       "      <td>United States</td>\n",
       "      <td>(540) 942-9453</td>\n",
       "      <td>Active</td>\n",
       "      <td>10-0000096</td>\n",
       "      <td>...</td>\n",
       "      <td>Yes</td>\n",
       "      <td>Suspected</td>\n",
       "      <td>NaN</td>\n",
       "      <td>TX</td>\n",
       "      <td>Brown County</td>\n",
       "      <td>NaN</td>\n",
       "      <td>NaN</td>\n",
       "      <td>28.778392</td>\n",
       "      <td>-89.033203</td>\n",
       "      <td>-403.770294</td>\n",
       "    </tr>\n",
       "    <tr>\n",
       "      <th>2</th>\n",
       "      <td>Visitor WILD-ONe Account</td>\n",
       "      <td>1800 South Delphine Ave PO Box 1557</td>\n",
       "      <td>Waynesboro</td>\n",
       "      <td>VA</td>\n",
       "      <td>22980</td>\n",
       "      <td>Waynesboro (City)</td>\n",
       "      <td>United States</td>\n",
       "      <td>(540) 942-9453</td>\n",
       "      <td>Active</td>\n",
       "      <td>10-0000106</td>\n",
       "      <td>...</td>\n",
       "      <td>Yes</td>\n",
       "      <td>Suspected</td>\n",
       "      <td>NaN</td>\n",
       "      <td>FL</td>\n",
       "      <td>Duval County/City of Jacksonville</td>\n",
       "      <td>NaN</td>\n",
       "      <td>NaN</td>\n",
       "      <td>39.749282</td>\n",
       "      <td>-84.194842</td>\n",
       "      <td>224.742340</td>\n",
       "    </tr>\n",
       "    <tr>\n",
       "      <th>3</th>\n",
       "      <td>Visitor WILD-ONe Account</td>\n",
       "      <td>1800 South Delphine Ave PO Box 1557</td>\n",
       "      <td>Waynesboro</td>\n",
       "      <td>VA</td>\n",
       "      <td>22980</td>\n",
       "      <td>Waynesboro (City)</td>\n",
       "      <td>United States</td>\n",
       "      <td>(540) 942-9453</td>\n",
       "      <td>Active</td>\n",
       "      <td>10-0000110</td>\n",
       "      <td>...</td>\n",
       "      <td>No</td>\n",
       "      <td>Observed</td>\n",
       "      <td>NaN</td>\n",
       "      <td>MN</td>\n",
       "      <td>Dakota County</td>\n",
       "      <td>NaN</td>\n",
       "      <td>NaN</td>\n",
       "      <td>NaN</td>\n",
       "      <td>NaN</td>\n",
       "      <td>NaN</td>\n",
       "    </tr>\n",
       "    <tr>\n",
       "      <th>4</th>\n",
       "      <td>Visitor WILD-ONe Account</td>\n",
       "      <td>1800 South Delphine Ave PO Box 1557</td>\n",
       "      <td>Waynesboro</td>\n",
       "      <td>VA</td>\n",
       "      <td>22980</td>\n",
       "      <td>Waynesboro (City)</td>\n",
       "      <td>United States</td>\n",
       "      <td>(540) 942-9453</td>\n",
       "      <td>Active</td>\n",
       "      <td>10-0000110</td>\n",
       "      <td>...</td>\n",
       "      <td>Yes</td>\n",
       "      <td>Suspected</td>\n",
       "      <td>NaN</td>\n",
       "      <td>MN</td>\n",
       "      <td>Dakota County</td>\n",
       "      <td>NaN</td>\n",
       "      <td>NaN</td>\n",
       "      <td>NaN</td>\n",
       "      <td>NaN</td>\n",
       "      <td>NaN</td>\n",
       "    </tr>\n",
       "  </tbody>\n",
       "</table>\n",
       "<p>5 rows × 37 columns</p>\n",
       "</div>"
      ],
      "text/plain": [
       "          Organization Name                 Organization Address  \\\n",
       "0  Visitor WILD-ONe Account  1800 South Delphine Ave PO Box 1557   \n",
       "1  Visitor WILD-ONe Account  1800 South Delphine Ave PO Box 1557   \n",
       "2  Visitor WILD-ONe Account  1800 South Delphine Ave PO Box 1557   \n",
       "3  Visitor WILD-ONe Account  1800 South Delphine Ave PO Box 1557   \n",
       "4  Visitor WILD-ONe Account  1800 South Delphine Ave PO Box 1557   \n",
       "\n",
       "  Organization City Organization State  Organization ZIP       Jurisdiction  \\\n",
       "0        Waynesboro                 VA             22980  Waynesboro (City)   \n",
       "1        Waynesboro                 VA             22980  Waynesboro (City)   \n",
       "2        Waynesboro                 VA             22980  Waynesboro (City)   \n",
       "3        Waynesboro                 VA             22980  Waynesboro (City)   \n",
       "4        Waynesboro                 VA             22980  Waynesboro (City)   \n",
       "\n",
       "  Organization Country           Phone  Status Case Number  ... Primary  \\\n",
       "0        United States  (540) 942-9453  Active  10-0000095  ...     Yes   \n",
       "1        United States  (540) 942-9453  Active  10-0000096  ...     Yes   \n",
       "2        United States  (540) 942-9453  Active  10-0000106  ...     Yes   \n",
       "3        United States  (540) 942-9453  Active  10-0000110  ...      No   \n",
       "4        United States  (540) 942-9453  Active  10-0000110  ...     Yes   \n",
       "\n",
       "  Suspected/Observed Admission Comments Rescue State  \\\n",
       "0          Suspected                NaN           ID   \n",
       "1          Suspected                NaN           TX   \n",
       "2          Suspected                NaN           FL   \n",
       "3           Observed                NaN           MN   \n",
       "4          Suspected                NaN           MN   \n",
       "\n",
       "                 Rescue Juristiction Rescue Address Other Rescue Information  \\\n",
       "0                       Boise County            NaN                      NaN   \n",
       "1                       Brown County            NaN                      NaN   \n",
       "2  Duval County/City of Jacksonville            NaN                      NaN   \n",
       "3                      Dakota County            NaN                      NaN   \n",
       "4                      Dakota County            NaN                      NaN   \n",
       "\n",
       "    Latitude   Longitude   Elevation  \n",
       "0  43.612476 -116.216784  817.056641  \n",
       "1  28.778392  -89.033203 -403.770294  \n",
       "2  39.749282  -84.194842  224.742340  \n",
       "3        NaN         NaN         NaN  \n",
       "4        NaN         NaN         NaN  \n",
       "\n",
       "[5 rows x 37 columns]"
      ]
     },
     "execution_count": 3,
     "metadata": {},
     "output_type": "execute_result"
    }
   ],
   "source": [
    "df.head()\n"
   ]
  },
  {
   "cell_type": "code",
   "execution_count": 4,
   "metadata": {},
   "outputs": [
    {
     "data": {
      "text/plain": [
       "Index(['Organization Name', 'Organization Address', 'Organization City',\n",
       "       'Organization State', 'Organization ZIP', 'Jurisdiction',\n",
       "       'Organization Country', 'Phone', 'Status', 'Case Number', 'Patient ID',\n",
       "       'Other Idenifier', 'Class', 'Common Species Name', 'Species',\n",
       "       'Subspecies', 'Genus', 'TSN Code', 'Gender', 'Patient Flag',\n",
       "       'Date Found', 'Time Found', 'Date Admitted', 'Time Admitted',\n",
       "       'Details of rescue', 'Care Given', 'Circumstances of Rescue', 'Primary',\n",
       "       'Suspected/Observed', 'Admission Comments', 'Rescue State',\n",
       "       'Rescue Juristiction', 'Rescue Address', 'Other Rescue Information',\n",
       "       'Latitude', 'Longitude', 'Elevation'],\n",
       "      dtype='object')"
      ]
     },
     "execution_count": 4,
     "metadata": {},
     "output_type": "execute_result"
    }
   ],
   "source": [
    "df.columns"
   ]
  },
  {
   "cell_type": "markdown",
   "metadata": {},
   "source": [
    "# Target Schema for Mapping\n"
   ]
  },
  {
   "cell_type": "code",
   "execution_count": null,
   "metadata": {},
   "outputs": [],
   "source": [
    "'Organization Name', 'Case Number', 'Patient ID', 'Common Species Name',\n",
    "       'Date Admitted', 'Circumstances of Rescue', 'Rescue State',\n",
    "       'Rescue Juristiction', 'Rescue Address', 'Other Rescue Information',\n",
    "       'Latitude', 'Longitude', 'Elevation', 'Disposition'"
   ]
  },
  {
   "cell_type": "markdown",
   "metadata": {},
   "source": [
    "## Drop Rows that have no Lat / Long information"
   ]
  },
  {
   "cell_type": "code",
   "execution_count": 5,
   "metadata": {},
   "outputs": [
    {
     "data": {
      "text/plain": [
       "np.int64(168)"
      ]
     },
     "execution_count": 5,
     "metadata": {},
     "output_type": "execute_result"
    }
   ],
   "source": [
    "# Count how many NaN values there are in the Latitude column\n",
    "df['Latitude'].isnull().sum()"
   ]
  },
  {
   "cell_type": "code",
   "execution_count": 6,
   "metadata": {},
   "outputs": [],
   "source": [
    "# Drop all rows with NaN values in the Latitude column\n",
    "df = df.dropna(subset=['Latitude'])\n",
    "assert df['Latitude'].isnull().sum() == 0"
   ]
  },
  {
   "cell_type": "code",
   "execution_count": 7,
   "metadata": {},
   "outputs": [],
   "source": [
    "# Check that there are no rows with NaN values in the Longitude column\n",
    "assert df['Longitude'].isnull().sum() == 0"
   ]
  },
  {
   "cell_type": "markdown",
   "metadata": {},
   "source": [
    "## Inspecting Jurisdiction and Rescue State Info"
   ]
  },
  {
   "cell_type": "code",
   "execution_count": 18,
   "metadata": {},
   "outputs": [
    {
     "data": {
      "text/plain": [
       "array(['Waynesboro (City)'], dtype=object)"
      ]
     },
     "execution_count": 18,
     "metadata": {},
     "output_type": "execute_result"
    }
   ],
   "source": [
    "df['Jurisdiction'].unique()"
   ]
  },
  {
   "cell_type": "code",
   "execution_count": 19,
   "metadata": {},
   "outputs": [
    {
     "data": {
      "text/plain": [
       "array(['ID', 'TX', 'FL', 'VA', 'MN', 'MD', 'CA', 'NJ', 'IL', 'OR', 'MI',\n",
       "       'UT', 'IN', 'OH', 'WI', 'WA', 'VT', 'KA', 'NY', 'IA', 'AL', 'GA',\n",
       "       'AK', 'CT', 'OK', 'ME', 'NC', 'NE', 'AR', 'KY', 'MO', 'PA', 'RI',\n",
       "       'NV', 'AB', 'QC', 'BC', 'MB', 'MA', 'SC', 'NM', 'ND', 'MT', 'CO',\n",
       "       'AZ'], dtype=object)"
      ]
     },
     "execution_count": 19,
     "metadata": {},
     "output_type": "execute_result"
    }
   ],
   "source": [
    "df['Rescue State'].unique()"
   ]
  },
  {
   "cell_type": "markdown",
   "metadata": {},
   "source": [
    "## Profiling Disposition"
   ]
  },
  {
   "cell_type": "code",
   "execution_count": 20,
   "metadata": {},
   "outputs": [
    {
     "data": {
      "text/plain": [
       "array([nan, 'offered water', 'Syringed water by mouth.', 'put in box',\n",
       "       'Bottle fed pedialyte to rehydrate', 'none',\n",
       "       'Put in box and covered', 'Put in empty ice chest',\n",
       "       'usual first aid', 'water', 'Bowl of Water',\n",
       "       'Covered and put in box', 'gave it hotdogs', 'nothing',\n",
       "       'placed in box and transported to humane society',\n",
       "       'fed water and chicken', 'no', 'FLUIDS', 'deer carcas', 'yes',\n",
       "       'administered Sub Q Fluids, kept warm',\n",
       "       'Applied helium gas to re-inflate', 'fed kitten milk',\n",
       "       'Fed cows milk and cheerios', 'No', 'chicken legs', 'Put in a box',\n",
       "       'offered water and bird seed', 'Offered water,kale,and apples',\n",
       "       'fed water',\n",
       "       \"Painter's tape wrapped around the body, preventing duck from flapping\",\n",
       "       'kjhgkhg', 'fed caviar', 'eau', 'Transport',\n",
       "       'Head Injury Protocols', 'sq fluids, metacam (1.5 mg/ml)', 'na',\n",
       "       'half bottle of milk', 'put in box and driven directly to center',\n",
       "       'none; brought immediately to rehab', 'brought inside for warmth',\n",
       "       'put in cardboard pox with a warm towel.', 'immediate transport',\n",
       "       'kept in box till found a place to take him', 'bread', 'fed bread',\n",
       "       'None given.', 'Gave little water and some bird seed.',\n",
       "       'care given. did not hand feed',\n",
       "       'Provided water in bowl and heated blanket', 'Taken to Vets',\n",
       "       'oral fluids', 'ORS toegediend, DEX gegeven',\n",
       "       'water and scratch and mash', 'mouth-to-mouth rescessutation',\n",
       "       'Rien', 'put in a box', 'gave food',\n",
       "       'Kept in tank with heating lamp, fed turtle food and worms',\n",
       "       'warmed and kept in box.', 'voice lessons',\n",
       "       'Put in container with holes in lid, called rehabber',\n",
       "       'finder tried to feed whole milk but they would not eat.'],\n",
       "      dtype=object)"
      ]
     },
     "execution_count": 20,
     "metadata": {},
     "output_type": "execute_result"
    }
   ],
   "source": [
    "df['Care Given'].unique()"
   ]
  },
  {
   "cell_type": "markdown",
   "metadata": {},
   "source": [
    "## Profiling Patient ID and Case Number (duplicates?)"
   ]
  },
  {
   "cell_type": "code",
   "execution_count": 20,
   "metadata": {},
   "outputs": [
    {
     "ename": "AssertionError",
     "evalue": "",
     "output_type": "error",
     "traceback": [
      "\u001b[0;31m---------------------------------------------------------------------------\u001b[0m",
      "\u001b[0;31mAssertionError\u001b[0m                            Traceback (most recent call last)",
      "Cell \u001b[0;32mIn[20], line 2\u001b[0m\n\u001b[1;32m      1\u001b[0m \u001b[38;5;66;03m# Check the Case Number column for duplicates\u001b[39;00m\n\u001b[0;32m----> 2\u001b[0m \u001b[38;5;28;01massert\u001b[39;00m df[\u001b[38;5;124m'\u001b[39m\u001b[38;5;124mCase Number\u001b[39m\u001b[38;5;124m'\u001b[39m]\u001b[38;5;241m.\u001b[39mduplicated()\u001b[38;5;241m.\u001b[39msum() \u001b[38;5;241m==\u001b[39m \u001b[38;5;241m0\u001b[39m\n",
      "\u001b[0;31mAssertionError\u001b[0m: "
     ]
    }
   ],
   "source": [
    "# Check the Case Number column for duplicates\n",
    "assert df['Case Number'].duplicated().sum() == 0"
   ]
  },
  {
   "cell_type": "code",
   "execution_count": 25,
   "metadata": {},
   "outputs": [
    {
     "name": "stdout",
     "output_type": "stream",
     "text": [
      "['10-0000135', '11-0001425', '11-0007396', '11-0010623', '13-0000820', '13-0031922', '13-0031923', '15-0020320', '16-0075828', '19-0006124', '10-0000105', '17-0100773', '15-0014855']\n",
      "There are 13 duplicate case numbers\n"
     ]
    }
   ],
   "source": [
    "# Print out a list of the duplicated Case Numbers\n",
    "# df[df['Case Number'].duplicated(keep=False)][['Case Number', 'Patient ID']]\n",
    "# df[df['Case Number'].duplicated(keep=False)]['Case Number']\n",
    "duplicate_case_numbers = list(df[df['Case Number'].duplicated()]['Case Number'])\n",
    "print(duplicate_case_numbers)\n",
    "print(f\"There are {len(duplicate_case_numbers)} duplicate case numbers\")"
   ]
  },
  {
   "cell_type": "code",
   "execution_count": 30,
   "metadata": {},
   "outputs": [
    {
     "data": {
      "text/html": [
       "<div>\n",
       "<style scoped>\n",
       "    .dataframe tbody tr th:only-of-type {\n",
       "        vertical-align: middle;\n",
       "    }\n",
       "\n",
       "    .dataframe tbody tr th {\n",
       "        vertical-align: top;\n",
       "    }\n",
       "\n",
       "    .dataframe thead th {\n",
       "        text-align: right;\n",
       "    }\n",
       "</style>\n",
       "<table border=\"1\" class=\"dataframe\">\n",
       "  <thead>\n",
       "    <tr style=\"text-align: right;\">\n",
       "      <th></th>\n",
       "      <th>Organization Name</th>\n",
       "      <th>Organization Address</th>\n",
       "      <th>Organization City</th>\n",
       "      <th>Organization State</th>\n",
       "      <th>Organization ZIP</th>\n",
       "      <th>Jurisdiction</th>\n",
       "      <th>Organization Country</th>\n",
       "      <th>Phone</th>\n",
       "      <th>Status</th>\n",
       "      <th>Case Number</th>\n",
       "      <th>...</th>\n",
       "      <th>Primary</th>\n",
       "      <th>Suspected/Observed</th>\n",
       "      <th>Admission Comments</th>\n",
       "      <th>Rescue State</th>\n",
       "      <th>Rescue Juristiction</th>\n",
       "      <th>Rescue Address</th>\n",
       "      <th>Other Rescue Information</th>\n",
       "      <th>Latitude</th>\n",
       "      <th>Longitude</th>\n",
       "      <th>Elevation</th>\n",
       "    </tr>\n",
       "  </thead>\n",
       "  <tbody>\n",
       "    <tr>\n",
       "      <th>11</th>\n",
       "      <td>Visitor WILD-ONe Account</td>\n",
       "      <td>1800 South Delphine Ave PO Box 1557</td>\n",
       "      <td>Waynesboro</td>\n",
       "      <td>VA</td>\n",
       "      <td>22980</td>\n",
       "      <td>Waynesboro (City)</td>\n",
       "      <td>United States</td>\n",
       "      <td>(540) 942-9453</td>\n",
       "      <td>Active</td>\n",
       "      <td>10-0000135</td>\n",
       "      <td>...</td>\n",
       "      <td>No</td>\n",
       "      <td>Suspected</td>\n",
       "      <td>NaN</td>\n",
       "      <td>NJ</td>\n",
       "      <td>Middlesex County</td>\n",
       "      <td>NaN</td>\n",
       "      <td>NaN</td>\n",
       "      <td>40.502189</td>\n",
       "      <td>-74.40659</td>\n",
       "      <td>38.416168</td>\n",
       "    </tr>\n",
       "    <tr>\n",
       "      <th>12</th>\n",
       "      <td>Visitor WILD-ONe Account</td>\n",
       "      <td>1800 South Delphine Ave PO Box 1557</td>\n",
       "      <td>Waynesboro</td>\n",
       "      <td>VA</td>\n",
       "      <td>22980</td>\n",
       "      <td>Waynesboro (City)</td>\n",
       "      <td>United States</td>\n",
       "      <td>(540) 942-9453</td>\n",
       "      <td>Active</td>\n",
       "      <td>10-0000135</td>\n",
       "      <td>...</td>\n",
       "      <td>Yes</td>\n",
       "      <td>Suspected</td>\n",
       "      <td>NaN</td>\n",
       "      <td>NJ</td>\n",
       "      <td>Middlesex County</td>\n",
       "      <td>NaN</td>\n",
       "      <td>NaN</td>\n",
       "      <td>40.502189</td>\n",
       "      <td>-74.40659</td>\n",
       "      <td>38.416168</td>\n",
       "    </tr>\n",
       "  </tbody>\n",
       "</table>\n",
       "<p>2 rows × 37 columns</p>\n",
       "</div>"
      ],
      "text/plain": [
       "           Organization Name                 Organization Address  \\\n",
       "11  Visitor WILD-ONe Account  1800 South Delphine Ave PO Box 1557   \n",
       "12  Visitor WILD-ONe Account  1800 South Delphine Ave PO Box 1557   \n",
       "\n",
       "   Organization City Organization State  Organization ZIP       Jurisdiction  \\\n",
       "11        Waynesboro                 VA             22980  Waynesboro (City)   \n",
       "12        Waynesboro                 VA             22980  Waynesboro (City)   \n",
       "\n",
       "   Organization Country           Phone  Status Case Number  ... Primary  \\\n",
       "11        United States  (540) 942-9453  Active  10-0000135  ...      No   \n",
       "12        United States  (540) 942-9453  Active  10-0000135  ...     Yes   \n",
       "\n",
       "   Suspected/Observed Admission Comments Rescue State Rescue Juristiction  \\\n",
       "11          Suspected                NaN           NJ    Middlesex County   \n",
       "12          Suspected                NaN           NJ    Middlesex County   \n",
       "\n",
       "   Rescue Address Other Rescue Information   Latitude Longitude  Elevation  \n",
       "11            NaN                      NaN  40.502189 -74.40659  38.416168  \n",
       "12            NaN                      NaN  40.502189 -74.40659  38.416168  \n",
       "\n",
       "[2 rows x 37 columns]"
      ]
     },
     "execution_count": 30,
     "metadata": {},
     "output_type": "execute_result"
    }
   ],
   "source": [
    "df[df['Case Number'] == duplicate_case_numbers[0]]"
   ]
  },
  {
   "cell_type": "code",
   "execution_count": null,
   "metadata": {},
   "outputs": [],
   "source": []
  },
  {
   "cell_type": "code",
   "execution_count": null,
   "metadata": {},
   "outputs": [],
   "source": []
  },
  {
   "cell_type": "code",
   "execution_count": 31,
   "metadata": {},
   "outputs": [
    {
     "ename": "KeyError",
     "evalue": "11",
     "output_type": "error",
     "traceback": [
      "\u001b[0;31m---------------------------------------------------------------------------\u001b[0m",
      "\u001b[0;31mKeyError\u001b[0m                                  Traceback (most recent call last)",
      "File \u001b[0;32m~/.virtualenvs/wildlife/lib/python3.10/site-packages/pandas/core/indexes/base.py:3805\u001b[0m, in \u001b[0;36mIndex.get_loc\u001b[0;34m(self, key)\u001b[0m\n\u001b[1;32m   3804\u001b[0m \u001b[38;5;28;01mtry\u001b[39;00m:\n\u001b[0;32m-> 3805\u001b[0m     \u001b[38;5;28;01mreturn\u001b[39;00m \u001b[38;5;28;43mself\u001b[39;49m\u001b[38;5;241;43m.\u001b[39;49m\u001b[43m_engine\u001b[49m\u001b[38;5;241;43m.\u001b[39;49m\u001b[43mget_loc\u001b[49m\u001b[43m(\u001b[49m\u001b[43mcasted_key\u001b[49m\u001b[43m)\u001b[49m\n\u001b[1;32m   3806\u001b[0m \u001b[38;5;28;01mexcept\u001b[39;00m \u001b[38;5;167;01mKeyError\u001b[39;00m \u001b[38;5;28;01mas\u001b[39;00m err:\n",
      "File \u001b[0;32mindex.pyx:167\u001b[0m, in \u001b[0;36mpandas._libs.index.IndexEngine.get_loc\u001b[0;34m()\u001b[0m\n",
      "File \u001b[0;32mindex.pyx:196\u001b[0m, in \u001b[0;36mpandas._libs.index.IndexEngine.get_loc\u001b[0;34m()\u001b[0m\n",
      "File \u001b[0;32mpandas/_libs/hashtable_class_helper.pxi:7081\u001b[0m, in \u001b[0;36mpandas._libs.hashtable.PyObjectHashTable.get_item\u001b[0;34m()\u001b[0m\n",
      "File \u001b[0;32mpandas/_libs/hashtable_class_helper.pxi:7089\u001b[0m, in \u001b[0;36mpandas._libs.hashtable.PyObjectHashTable.get_item\u001b[0;34m()\u001b[0m\n",
      "\u001b[0;31mKeyError\u001b[0m: 11",
      "\nThe above exception was the direct cause of the following exception:\n",
      "\u001b[0;31mKeyError\u001b[0m                                  Traceback (most recent call last)",
      "Cell \u001b[0;32mIn[31], line 1\u001b[0m\n\u001b[0;32m----> 1\u001b[0m \u001b[43mdf\u001b[49m\u001b[43m[\u001b[49m\u001b[38;5;241;43m11\u001b[39;49m\u001b[43m]\u001b[49m\n",
      "File \u001b[0;32m~/.virtualenvs/wildlife/lib/python3.10/site-packages/pandas/core/frame.py:4102\u001b[0m, in \u001b[0;36mDataFrame.__getitem__\u001b[0;34m(self, key)\u001b[0m\n\u001b[1;32m   4100\u001b[0m \u001b[38;5;28;01mif\u001b[39;00m \u001b[38;5;28mself\u001b[39m\u001b[38;5;241m.\u001b[39mcolumns\u001b[38;5;241m.\u001b[39mnlevels \u001b[38;5;241m>\u001b[39m \u001b[38;5;241m1\u001b[39m:\n\u001b[1;32m   4101\u001b[0m     \u001b[38;5;28;01mreturn\u001b[39;00m \u001b[38;5;28mself\u001b[39m\u001b[38;5;241m.\u001b[39m_getitem_multilevel(key)\n\u001b[0;32m-> 4102\u001b[0m indexer \u001b[38;5;241m=\u001b[39m \u001b[38;5;28;43mself\u001b[39;49m\u001b[38;5;241;43m.\u001b[39;49m\u001b[43mcolumns\u001b[49m\u001b[38;5;241;43m.\u001b[39;49m\u001b[43mget_loc\u001b[49m\u001b[43m(\u001b[49m\u001b[43mkey\u001b[49m\u001b[43m)\u001b[49m\n\u001b[1;32m   4103\u001b[0m \u001b[38;5;28;01mif\u001b[39;00m is_integer(indexer):\n\u001b[1;32m   4104\u001b[0m     indexer \u001b[38;5;241m=\u001b[39m [indexer]\n",
      "File \u001b[0;32m~/.virtualenvs/wildlife/lib/python3.10/site-packages/pandas/core/indexes/base.py:3812\u001b[0m, in \u001b[0;36mIndex.get_loc\u001b[0;34m(self, key)\u001b[0m\n\u001b[1;32m   3807\u001b[0m     \u001b[38;5;28;01mif\u001b[39;00m \u001b[38;5;28misinstance\u001b[39m(casted_key, \u001b[38;5;28mslice\u001b[39m) \u001b[38;5;129;01mor\u001b[39;00m (\n\u001b[1;32m   3808\u001b[0m         \u001b[38;5;28misinstance\u001b[39m(casted_key, abc\u001b[38;5;241m.\u001b[39mIterable)\n\u001b[1;32m   3809\u001b[0m         \u001b[38;5;129;01mand\u001b[39;00m \u001b[38;5;28many\u001b[39m(\u001b[38;5;28misinstance\u001b[39m(x, \u001b[38;5;28mslice\u001b[39m) \u001b[38;5;28;01mfor\u001b[39;00m x \u001b[38;5;129;01min\u001b[39;00m casted_key)\n\u001b[1;32m   3810\u001b[0m     ):\n\u001b[1;32m   3811\u001b[0m         \u001b[38;5;28;01mraise\u001b[39;00m InvalidIndexError(key)\n\u001b[0;32m-> 3812\u001b[0m     \u001b[38;5;28;01mraise\u001b[39;00m \u001b[38;5;167;01mKeyError\u001b[39;00m(key) \u001b[38;5;28;01mfrom\u001b[39;00m \u001b[38;5;21;01merr\u001b[39;00m\n\u001b[1;32m   3813\u001b[0m \u001b[38;5;28;01mexcept\u001b[39;00m \u001b[38;5;167;01mTypeError\u001b[39;00m:\n\u001b[1;32m   3814\u001b[0m     \u001b[38;5;66;03m# If we have a listlike key, _check_indexing_error will raise\u001b[39;00m\n\u001b[1;32m   3815\u001b[0m     \u001b[38;5;66;03m#  InvalidIndexError. Otherwise we fall through and re-raise\u001b[39;00m\n\u001b[1;32m   3816\u001b[0m     \u001b[38;5;66;03m#  the TypeError.\u001b[39;00m\n\u001b[1;32m   3817\u001b[0m     \u001b[38;5;28mself\u001b[39m\u001b[38;5;241m.\u001b[39m_check_indexing_error(key)\n",
      "\u001b[0;31mKeyError\u001b[0m: 11"
     ]
    }
   ],
   "source": []
  },
  {
   "cell_type": "code",
   "execution_count": null,
   "metadata": {},
   "outputs": [],
   "source": []
  }
 ],
 "metadata": {
  "kernelspec": {
   "display_name": "wildlife",
   "language": "python",
   "name": "python3"
  },
  "language_info": {
   "codemirror_mode": {
    "name": "ipython",
    "version": 3
   },
   "file_extension": ".py",
   "mimetype": "text/x-python",
   "name": "python",
   "nbconvert_exporter": "python",
   "pygments_lexer": "ipython3",
   "version": "3.10.12"
  }
 },
 "nbformat": 4,
 "nbformat_minor": 2
}
