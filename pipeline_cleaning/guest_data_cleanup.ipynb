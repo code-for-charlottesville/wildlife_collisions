{
 "cells": [
  {
   "cell_type": "code",
   "execution_count": 3,
   "metadata": {},
   "outputs": [],
   "source": [
    "import pandas as pd"
   ]
  },
  {
   "cell_type": "code",
   "execution_count": 4,
   "metadata": {},
   "outputs": [],
   "source": [
    "# Read in an csv file\n",
    "df = pd.read_csv('report_guest_data_va.csv', header=1)"
   ]
  },
  {
   "cell_type": "code",
   "execution_count": 5,
   "metadata": {},
   "outputs": [
    {
     "data": {
      "text/html": [
       "<div>\n",
       "<style scoped>\n",
       "    .dataframe tbody tr th:only-of-type {\n",
       "        vertical-align: middle;\n",
       "    }\n",
       "\n",
       "    .dataframe tbody tr th {\n",
       "        vertical-align: top;\n",
       "    }\n",
       "\n",
       "    .dataframe thead th {\n",
       "        text-align: right;\n",
       "    }\n",
       "</style>\n",
       "<table border=\"1\" class=\"dataframe\">\n",
       "  <thead>\n",
       "    <tr style=\"text-align: right;\">\n",
       "      <th></th>\n",
       "      <th>Organization Name</th>\n",
       "      <th>Organization Address</th>\n",
       "      <th>Organization City</th>\n",
       "      <th>Organization State</th>\n",
       "      <th>Organization ZIP</th>\n",
       "      <th>Jurisdiction</th>\n",
       "      <th>Organization Country</th>\n",
       "      <th>Phone</th>\n",
       "      <th>Status</th>\n",
       "      <th>Case Number</th>\n",
       "      <th>...</th>\n",
       "      <th>Primary</th>\n",
       "      <th>Suspected/Observed</th>\n",
       "      <th>Admission Comments</th>\n",
       "      <th>Rescue State</th>\n",
       "      <th>Rescue Juristiction</th>\n",
       "      <th>Rescue Address</th>\n",
       "      <th>Other Rescue Information</th>\n",
       "      <th>Latitude</th>\n",
       "      <th>Longitude</th>\n",
       "      <th>Elevation</th>\n",
       "    </tr>\n",
       "  </thead>\n",
       "  <tbody>\n",
       "    <tr>\n",
       "      <th>0</th>\n",
       "      <td>Visitor WILD-ONe Account</td>\n",
       "      <td>1800 South Delphine Ave PO Box 1557</td>\n",
       "      <td>Waynesboro</td>\n",
       "      <td>VA</td>\n",
       "      <td>22980</td>\n",
       "      <td>Waynesboro (City)</td>\n",
       "      <td>United States</td>\n",
       "      <td>(540) 942-9453</td>\n",
       "      <td>Active</td>\n",
       "      <td>10-0000095</td>\n",
       "      <td>...</td>\n",
       "      <td>Yes</td>\n",
       "      <td>Suspected</td>\n",
       "      <td>NaN</td>\n",
       "      <td>ID</td>\n",
       "      <td>Boise County</td>\n",
       "      <td>NaN</td>\n",
       "      <td>NaN</td>\n",
       "      <td>43.612476</td>\n",
       "      <td>-116.216784</td>\n",
       "      <td>817.056641</td>\n",
       "    </tr>\n",
       "    <tr>\n",
       "      <th>1</th>\n",
       "      <td>Visitor WILD-ONe Account</td>\n",
       "      <td>1800 South Delphine Ave PO Box 1557</td>\n",
       "      <td>Waynesboro</td>\n",
       "      <td>VA</td>\n",
       "      <td>22980</td>\n",
       "      <td>Waynesboro (City)</td>\n",
       "      <td>United States</td>\n",
       "      <td>(540) 942-9453</td>\n",
       "      <td>Active</td>\n",
       "      <td>10-0000096</td>\n",
       "      <td>...</td>\n",
       "      <td>Yes</td>\n",
       "      <td>Suspected</td>\n",
       "      <td>NaN</td>\n",
       "      <td>TX</td>\n",
       "      <td>Brown County</td>\n",
       "      <td>NaN</td>\n",
       "      <td>NaN</td>\n",
       "      <td>28.778392</td>\n",
       "      <td>-89.033203</td>\n",
       "      <td>-403.770294</td>\n",
       "    </tr>\n",
       "    <tr>\n",
       "      <th>2</th>\n",
       "      <td>Visitor WILD-ONe Account</td>\n",
       "      <td>1800 South Delphine Ave PO Box 1557</td>\n",
       "      <td>Waynesboro</td>\n",
       "      <td>VA</td>\n",
       "      <td>22980</td>\n",
       "      <td>Waynesboro (City)</td>\n",
       "      <td>United States</td>\n",
       "      <td>(540) 942-9453</td>\n",
       "      <td>Active</td>\n",
       "      <td>10-0000106</td>\n",
       "      <td>...</td>\n",
       "      <td>Yes</td>\n",
       "      <td>Suspected</td>\n",
       "      <td>NaN</td>\n",
       "      <td>FL</td>\n",
       "      <td>Duval County/City of Jacksonville</td>\n",
       "      <td>NaN</td>\n",
       "      <td>NaN</td>\n",
       "      <td>39.749282</td>\n",
       "      <td>-84.194842</td>\n",
       "      <td>224.742340</td>\n",
       "    </tr>\n",
       "    <tr>\n",
       "      <th>3</th>\n",
       "      <td>Visitor WILD-ONe Account</td>\n",
       "      <td>1800 South Delphine Ave PO Box 1557</td>\n",
       "      <td>Waynesboro</td>\n",
       "      <td>VA</td>\n",
       "      <td>22980</td>\n",
       "      <td>Waynesboro (City)</td>\n",
       "      <td>United States</td>\n",
       "      <td>(540) 942-9453</td>\n",
       "      <td>Active</td>\n",
       "      <td>10-0000110</td>\n",
       "      <td>...</td>\n",
       "      <td>No</td>\n",
       "      <td>Observed</td>\n",
       "      <td>NaN</td>\n",
       "      <td>MN</td>\n",
       "      <td>Dakota County</td>\n",
       "      <td>NaN</td>\n",
       "      <td>NaN</td>\n",
       "      <td>NaN</td>\n",
       "      <td>NaN</td>\n",
       "      <td>NaN</td>\n",
       "    </tr>\n",
       "    <tr>\n",
       "      <th>4</th>\n",
       "      <td>Visitor WILD-ONe Account</td>\n",
       "      <td>1800 South Delphine Ave PO Box 1557</td>\n",
       "      <td>Waynesboro</td>\n",
       "      <td>VA</td>\n",
       "      <td>22980</td>\n",
       "      <td>Waynesboro (City)</td>\n",
       "      <td>United States</td>\n",
       "      <td>(540) 942-9453</td>\n",
       "      <td>Active</td>\n",
       "      <td>10-0000110</td>\n",
       "      <td>...</td>\n",
       "      <td>Yes</td>\n",
       "      <td>Suspected</td>\n",
       "      <td>NaN</td>\n",
       "      <td>MN</td>\n",
       "      <td>Dakota County</td>\n",
       "      <td>NaN</td>\n",
       "      <td>NaN</td>\n",
       "      <td>NaN</td>\n",
       "      <td>NaN</td>\n",
       "      <td>NaN</td>\n",
       "    </tr>\n",
       "  </tbody>\n",
       "</table>\n",
       "<p>5 rows × 37 columns</p>\n",
       "</div>"
      ],
      "text/plain": [
       "          Organization Name                 Organization Address  \\\n",
       "0  Visitor WILD-ONe Account  1800 South Delphine Ave PO Box 1557   \n",
       "1  Visitor WILD-ONe Account  1800 South Delphine Ave PO Box 1557   \n",
       "2  Visitor WILD-ONe Account  1800 South Delphine Ave PO Box 1557   \n",
       "3  Visitor WILD-ONe Account  1800 South Delphine Ave PO Box 1557   \n",
       "4  Visitor WILD-ONe Account  1800 South Delphine Ave PO Box 1557   \n",
       "\n",
       "  Organization City Organization State  Organization ZIP       Jurisdiction  \\\n",
       "0        Waynesboro                 VA             22980  Waynesboro (City)   \n",
       "1        Waynesboro                 VA             22980  Waynesboro (City)   \n",
       "2        Waynesboro                 VA             22980  Waynesboro (City)   \n",
       "3        Waynesboro                 VA             22980  Waynesboro (City)   \n",
       "4        Waynesboro                 VA             22980  Waynesboro (City)   \n",
       "\n",
       "  Organization Country           Phone  Status Case Number  ... Primary  \\\n",
       "0        United States  (540) 942-9453  Active  10-0000095  ...     Yes   \n",
       "1        United States  (540) 942-9453  Active  10-0000096  ...     Yes   \n",
       "2        United States  (540) 942-9453  Active  10-0000106  ...     Yes   \n",
       "3        United States  (540) 942-9453  Active  10-0000110  ...      No   \n",
       "4        United States  (540) 942-9453  Active  10-0000110  ...     Yes   \n",
       "\n",
       "  Suspected/Observed Admission Comments Rescue State  \\\n",
       "0          Suspected                NaN           ID   \n",
       "1          Suspected                NaN           TX   \n",
       "2          Suspected                NaN           FL   \n",
       "3           Observed                NaN           MN   \n",
       "4          Suspected                NaN           MN   \n",
       "\n",
       "                 Rescue Juristiction Rescue Address Other Rescue Information  \\\n",
       "0                       Boise County            NaN                      NaN   \n",
       "1                       Brown County            NaN                      NaN   \n",
       "2  Duval County/City of Jacksonville            NaN                      NaN   \n",
       "3                      Dakota County            NaN                      NaN   \n",
       "4                      Dakota County            NaN                      NaN   \n",
       "\n",
       "    Latitude   Longitude   Elevation  \n",
       "0  43.612476 -116.216784  817.056641  \n",
       "1  28.778392  -89.033203 -403.770294  \n",
       "2  39.749282  -84.194842  224.742340  \n",
       "3        NaN         NaN         NaN  \n",
       "4        NaN         NaN         NaN  \n",
       "\n",
       "[5 rows x 37 columns]"
      ]
     },
     "execution_count": 5,
     "metadata": {},
     "output_type": "execute_result"
    }
   ],
   "source": [
    "df.head()\n"
   ]
  },
  {
   "cell_type": "code",
   "execution_count": 6,
   "metadata": {},
   "outputs": [
    {
     "data": {
      "text/plain": [
       "Index(['Organization Name', 'Organization Address', 'Organization City',\n",
       "       'Organization State', 'Organization ZIP', 'Jurisdiction',\n",
       "       'Organization Country', 'Phone', 'Status', 'Case Number', 'Patient ID',\n",
       "       'Other Idenifier', 'Class', 'Common Species Name', 'Species',\n",
       "       'Subspecies', 'Genus', 'TSN Code', 'Gender', 'Patient Flag',\n",
       "       'Date Found', 'Time Found', 'Date Admitted', 'Time Admitted',\n",
       "       'Details of rescue', 'Care Given', 'Circumstances of Rescue', 'Primary',\n",
       "       'Suspected/Observed', 'Admission Comments', 'Rescue State',\n",
       "       'Rescue Juristiction', 'Rescue Address', 'Other Rescue Information',\n",
       "       'Latitude', 'Longitude', 'Elevation'],\n",
       "      dtype='object')"
      ]
     },
     "execution_count": 6,
     "metadata": {},
     "output_type": "execute_result"
    }
   ],
   "source": [
    "df.columns"
   ]
  },
  {
   "cell_type": "markdown",
   "metadata": {},
   "source": [
    "# Target Schema for Mapping\n"
   ]
  },
  {
   "cell_type": "code",
   "execution_count": 7,
   "metadata": {},
   "outputs": [
    {
     "ename": "IndentationError",
     "evalue": "unexpected indent (2495075394.py, line 2)",
     "output_type": "error",
     "traceback": [
      "\u001b[0;36m  Cell \u001b[0;32mIn[7], line 2\u001b[0;36m\u001b[0m\n\u001b[0;31m    'Date Admitted', 'Circumstances of Rescue', 'Rescue State',\u001b[0m\n\u001b[0m    ^\u001b[0m\n\u001b[0;31mIndentationError\u001b[0m\u001b[0;31m:\u001b[0m unexpected indent\n"
     ]
    }
   ],
   "source": [
    "'Organization Name', 'Case Number', 'Patient ID', 'Common Species Name',\n",
    "       'Date Admitted', 'Circumstances of Rescue', 'Rescue State',\n",
    "       'Rescue Juristiction', 'Rescue Address', 'Other Rescue Information',\n",
    "       'Latitude', 'Longitude', 'Elevation', 'Disposition'"
   ]
  },
  {
   "cell_type": "markdown",
   "metadata": {},
   "source": [
    "## Drop Rows that have no Lat / Long information"
   ]
  },
  {
   "cell_type": "code",
   "execution_count": null,
   "metadata": {},
   "outputs": [
    {
     "data": {
      "text/plain": [
       "np.int64(168)"
      ]
     },
     "execution_count": 5,
     "metadata": {},
     "output_type": "execute_result"
    }
   ],
   "source": [
    "# Count how many NaN values there are in the Latitude column\n",
    "df['Latitude'].isnull().sum()"
   ]
  },
  {
   "cell_type": "code",
   "execution_count": null,
   "metadata": {},
   "outputs": [],
   "source": [
    "# Drop all rows with NaN values in the Latitude column\n",
    "df = df.dropna(subset=['Latitude'])\n",
    "assert df['Latitude'].isnull().sum() == 0"
   ]
  },
  {
   "cell_type": "code",
   "execution_count": null,
   "metadata": {},
   "outputs": [],
   "source": [
    "# Check that there are no rows with NaN values in the Longitude column\n",
    "assert df['Longitude'].isnull().sum() == 0"
   ]
  },
  {
   "cell_type": "markdown",
   "metadata": {},
   "source": [
    "## Inspecting Jurisdiction and Rescue State Info"
   ]
  },
  {
   "cell_type": "code",
   "execution_count": null,
   "metadata": {},
   "outputs": [
    {
     "data": {
      "text/plain": [
       "array(['Waynesboro (City)'], dtype=object)"
      ]
     },
     "execution_count": 18,
     "metadata": {},
     "output_type": "execute_result"
    }
   ],
   "source": [
    "df['Jurisdiction'].unique()"
   ]
  },
  {
   "cell_type": "code",
   "execution_count": null,
   "metadata": {},
   "outputs": [
    {
     "data": {
      "text/plain": [
       "array(['ID', 'TX', 'FL', 'VA', 'MN', 'MD', 'CA', 'NJ', 'IL', 'OR', 'MI',\n",
       "       'UT', 'IN', 'OH', 'WI', 'WA', 'VT', 'KA', 'NY', 'IA', 'AL', 'GA',\n",
       "       'AK', 'CT', 'OK', 'ME', 'NC', 'NE', 'AR', 'KY', 'MO', 'PA', 'RI',\n",
       "       'NV', 'AB', 'QC', 'BC', 'MB', 'MA', 'SC', 'NM', 'ND', 'MT', 'CO',\n",
       "       'AZ'], dtype=object)"
      ]
     },
     "execution_count": 19,
     "metadata": {},
     "output_type": "execute_result"
    }
   ],
   "source": [
    "df['Rescue State'].unique()"
   ]
  },
  {
   "cell_type": "markdown",
   "metadata": {},
   "source": [
    "## Profiling Disposition"
   ]
  },
  {
   "cell_type": "code",
   "execution_count": null,
   "metadata": {},
   "outputs": [
    {
     "data": {
      "text/plain": [
       "array([nan, 'offered water', 'Syringed water by mouth.', 'put in box',\n",
       "       'Bottle fed pedialyte to rehydrate', 'none',\n",
       "       'Put in box and covered', 'Put in empty ice chest',\n",
       "       'usual first aid', 'water', 'Bowl of Water',\n",
       "       'Covered and put in box', 'gave it hotdogs', 'nothing',\n",
       "       'placed in box and transported to humane society',\n",
       "       'fed water and chicken', 'no', 'FLUIDS', 'deer carcas', 'yes',\n",
       "       'administered Sub Q Fluids, kept warm',\n",
       "       'Applied helium gas to re-inflate', 'fed kitten milk',\n",
       "       'Fed cows milk and cheerios', 'No', 'chicken legs', 'Put in a box',\n",
       "       'offered water and bird seed', 'Offered water,kale,and apples',\n",
       "       'fed water',\n",
       "       \"Painter's tape wrapped around the body, preventing duck from flapping\",\n",
       "       'kjhgkhg', 'fed caviar', 'eau', 'Transport',\n",
       "       'Head Injury Protocols', 'sq fluids, metacam (1.5 mg/ml)', 'na',\n",
       "       'half bottle of milk', 'put in box and driven directly to center',\n",
       "       'none; brought immediately to rehab', 'brought inside for warmth',\n",
       "       'put in cardboard pox with a warm towel.', 'immediate transport',\n",
       "       'kept in box till found a place to take him', 'bread', 'fed bread',\n",
       "       'None given.', 'Gave little water and some bird seed.',\n",
       "       'care given. did not hand feed',\n",
       "       'Provided water in bowl and heated blanket', 'Taken to Vets',\n",
       "       'oral fluids', 'ORS toegediend, DEX gegeven',\n",
       "       'water and scratch and mash', 'mouth-to-mouth rescessutation',\n",
       "       'Rien', 'put in a box', 'gave food',\n",
       "       'Kept in tank with heating lamp, fed turtle food and worms',\n",
       "       'warmed and kept in box.', 'voice lessons',\n",
       "       'Put in container with holes in lid, called rehabber',\n",
       "       'finder tried to feed whole milk but they would not eat.'],\n",
       "      dtype=object)"
      ]
     },
     "execution_count": 20,
     "metadata": {},
     "output_type": "execute_result"
    }
   ],
   "source": [
    "df['Care Given'].unique()"
   ]
  },
  {
   "cell_type": "markdown",
   "metadata": {},
   "source": [
    "## Profiling Patient ID and Case Number (duplicates?)"
   ]
  },
  {
   "cell_type": "code",
   "execution_count": null,
   "metadata": {},
   "outputs": [
    {
     "ename": "AssertionError",
     "evalue": "",
     "output_type": "error",
     "traceback": [
      "\u001b[0;31m---------------------------------------------------------------------------\u001b[0m",
      "\u001b[0;31mAssertionError\u001b[0m                            Traceback (most recent call last)",
      "Cell \u001b[0;32mIn[20], line 2\u001b[0m\n\u001b[1;32m      1\u001b[0m \u001b[38;5;66;03m# Check the Case Number column for duplicates\u001b[39;00m\n\u001b[0;32m----> 2\u001b[0m \u001b[38;5;28;01massert\u001b[39;00m df[\u001b[38;5;124m'\u001b[39m\u001b[38;5;124mCase Number\u001b[39m\u001b[38;5;124m'\u001b[39m]\u001b[38;5;241m.\u001b[39mduplicated()\u001b[38;5;241m.\u001b[39msum() \u001b[38;5;241m==\u001b[39m \u001b[38;5;241m0\u001b[39m\n",
      "\u001b[0;31mAssertionError\u001b[0m: "
     ]
    }
   ],
   "source": [
    "# Check the Case Number column for duplicates\n",
    "assert df['Case Number'].duplicated().sum() == 0"
   ]
  },
  {
   "cell_type": "code",
   "execution_count": null,
   "metadata": {},
   "outputs": [
    {
     "name": "stdout",
     "output_type": "stream",
     "text": [
      "['10-0000135', '11-0001425', '11-0007396', '11-0010623', '13-0000820', '13-0031922', '13-0031923', '15-0020320', '16-0075828', '19-0006124', '10-0000105', '17-0100773', '15-0014855']\n",
      "There are 13 duplicate case numbers\n"
     ]
    }
   ],
   "source": [
    "# Print out a list of the duplicated Case Numbers\n",
    "# df[df['Case Number'].duplicated(keep=False)][['Case Number', 'Patient ID']]\n",
    "# df[df['Case Number'].duplicated(keep=False)]['Case Number']\n",
    "duplicate_case_numbers = list(df[df['Case Number'].duplicated()]['Case Number'])\n",
    "print(duplicate_case_numbers)\n",
    "print(f\"There are {len(duplicate_case_numbers)} duplicate case numbers\")"
   ]
  },
  {
   "cell_type": "code",
   "execution_count": null,
   "metadata": {},
   "outputs": [
    {
     "data": {
      "text/html": [
       "<div>\n",
       "<style scoped>\n",
       "    .dataframe tbody tr th:only-of-type {\n",
       "        vertical-align: middle;\n",
       "    }\n",
       "\n",
       "    .dataframe tbody tr th {\n",
       "        vertical-align: top;\n",
       "    }\n",
       "\n",
       "    .dataframe thead th {\n",
       "        text-align: right;\n",
       "    }\n",
       "</style>\n",
       "<table border=\"1\" class=\"dataframe\">\n",
       "  <thead>\n",
       "    <tr style=\"text-align: right;\">\n",
       "      <th></th>\n",
       "      <th>Organization Name</th>\n",
       "      <th>Organization Address</th>\n",
       "      <th>Organization City</th>\n",
       "      <th>Organization State</th>\n",
       "      <th>Organization ZIP</th>\n",
       "      <th>Jurisdiction</th>\n",
       "      <th>Organization Country</th>\n",
       "      <th>Phone</th>\n",
       "      <th>Status</th>\n",
       "      <th>Case Number</th>\n",
       "      <th>...</th>\n",
       "      <th>Primary</th>\n",
       "      <th>Suspected/Observed</th>\n",
       "      <th>Admission Comments</th>\n",
       "      <th>Rescue State</th>\n",
       "      <th>Rescue Juristiction</th>\n",
       "      <th>Rescue Address</th>\n",
       "      <th>Other Rescue Information</th>\n",
       "      <th>Latitude</th>\n",
       "      <th>Longitude</th>\n",
       "      <th>Elevation</th>\n",
       "    </tr>\n",
       "  </thead>\n",
       "  <tbody>\n",
       "    <tr>\n",
       "      <th>11</th>\n",
       "      <td>Visitor WILD-ONe Account</td>\n",
       "      <td>1800 South Delphine Ave PO Box 1557</td>\n",
       "      <td>Waynesboro</td>\n",
       "      <td>VA</td>\n",
       "      <td>22980</td>\n",
       "      <td>Waynesboro (City)</td>\n",
       "      <td>United States</td>\n",
       "      <td>(540) 942-9453</td>\n",
       "      <td>Active</td>\n",
       "      <td>10-0000135</td>\n",
       "      <td>...</td>\n",
       "      <td>No</td>\n",
       "      <td>Suspected</td>\n",
       "      <td>NaN</td>\n",
       "      <td>NJ</td>\n",
       "      <td>Middlesex County</td>\n",
       "      <td>NaN</td>\n",
       "      <td>NaN</td>\n",
       "      <td>40.502189</td>\n",
       "      <td>-74.40659</td>\n",
       "      <td>38.416168</td>\n",
       "    </tr>\n",
       "    <tr>\n",
       "      <th>12</th>\n",
       "      <td>Visitor WILD-ONe Account</td>\n",
       "      <td>1800 South Delphine Ave PO Box 1557</td>\n",
       "      <td>Waynesboro</td>\n",
       "      <td>VA</td>\n",
       "      <td>22980</td>\n",
       "      <td>Waynesboro (City)</td>\n",
       "      <td>United States</td>\n",
       "      <td>(540) 942-9453</td>\n",
       "      <td>Active</td>\n",
       "      <td>10-0000135</td>\n",
       "      <td>...</td>\n",
       "      <td>Yes</td>\n",
       "      <td>Suspected</td>\n",
       "      <td>NaN</td>\n",
       "      <td>NJ</td>\n",
       "      <td>Middlesex County</td>\n",
       "      <td>NaN</td>\n",
       "      <td>NaN</td>\n",
       "      <td>40.502189</td>\n",
       "      <td>-74.40659</td>\n",
       "      <td>38.416168</td>\n",
       "    </tr>\n",
       "  </tbody>\n",
       "</table>\n",
       "<p>2 rows × 37 columns</p>\n",
       "</div>"
      ],
      "text/plain": [
       "           Organization Name                 Organization Address  \\\n",
       "11  Visitor WILD-ONe Account  1800 South Delphine Ave PO Box 1557   \n",
       "12  Visitor WILD-ONe Account  1800 South Delphine Ave PO Box 1557   \n",
       "\n",
       "   Organization City Organization State  Organization ZIP       Jurisdiction  \\\n",
       "11        Waynesboro                 VA             22980  Waynesboro (City)   \n",
       "12        Waynesboro                 VA             22980  Waynesboro (City)   \n",
       "\n",
       "   Organization Country           Phone  Status Case Number  ... Primary  \\\n",
       "11        United States  (540) 942-9453  Active  10-0000135  ...      No   \n",
       "12        United States  (540) 942-9453  Active  10-0000135  ...     Yes   \n",
       "\n",
       "   Suspected/Observed Admission Comments Rescue State Rescue Juristiction  \\\n",
       "11          Suspected                NaN           NJ    Middlesex County   \n",
       "12          Suspected                NaN           NJ    Middlesex County   \n",
       "\n",
       "   Rescue Address Other Rescue Information   Latitude Longitude  Elevation  \n",
       "11            NaN                      NaN  40.502189 -74.40659  38.416168  \n",
       "12            NaN                      NaN  40.502189 -74.40659  38.416168  \n",
       "\n",
       "[2 rows x 37 columns]"
      ]
     },
     "execution_count": 30,
     "metadata": {},
     "output_type": "execute_result"
    }
   ],
   "source": [
    "df[df['Case Number'] == duplicate_case_numbers[0]]"
   ]
  },
  {
   "cell_type": "markdown",
   "metadata": {},
   "source": [
    "## Animal Mapping "
   ]
  },
  {
   "cell_type": "markdown",
   "metadata": {},
   "source": [
    "### Class"
   ]
  },
  {
   "cell_type": "code",
   "execution_count": 8,
   "metadata": {},
   "outputs": [
    {
     "data": {
      "text/plain": [
       "array(['Reptiles', 'Birds', 'Mammals', 'mammals'], dtype=object)"
      ]
     },
     "execution_count": 8,
     "metadata": {},
     "output_type": "execute_result"
    }
   ],
   "source": [
    "df['Class'].unique()"
   ]
  },
  {
   "cell_type": "code",
   "execution_count": 9,
   "metadata": {},
   "outputs": [
    {
     "data": {
      "text/plain": [
       "array(['Reptiles', 'Birds', 'Mammals'], dtype=object)"
      ]
     },
     "execution_count": 9,
     "metadata": {},
     "output_type": "execute_result"
    }
   ],
   "source": [
    "mapping = {\n",
    "    'Reptiles': 'Reptiles',\n",
    "    'Birds': 'Birds',\n",
    "    'Mammals': 'Mammals',\n",
    "    'mammals': 'Mammals',\n",
    "}\n",
    "\n",
    "df.loc[:, 'Class'] = df['Class'].str.lower().map(mapping).fillna(df['Class'])\n",
    "df['Class'].unique()"
   ]
  },
  {
   "cell_type": "markdown",
   "metadata": {},
   "source": [
    "### Common name"
   ]
  },
  {
   "cell_type": "code",
   "execution_count": 10,
   "metadata": {},
   "outputs": [
    {
     "data": {
      "text/plain": [
       "array(['Brown Wood Turtle', 'Vermilion Flycatcher', 'Red-tailed Hawk',\n",
       "       'Blue Jay', 'eastern gray squirrel', 'southern flying squirrel',\n",
       "       'Barred Owl', 'Turkey Vulture', 'American Robin', 'Green Heron',\n",
       "       'Mallard', 'black-tailed jack rabbit', 'Eastern Box Turtle',\n",
       "       'Raccoon', 'big brown bat', 'Northwestern Crow', 'Fish Crow',\n",
       "       'Key West Quail-Dove', 'Northern Cardinal', 'Red Fox',\n",
       "       'Gopher Tortoise', 'Eastern Cottontail', 'Black-billed Magpie',\n",
       "       'gray wolf', 'Black-bellied Whistling Duck', 'Rock Pigeon',\n",
       "       'Bald Eagle', 'black-tailed deer', 'Virginia Opossum',\n",
       "       'Cascade golden-mantled ground squirrel', 'common raccoon',\n",
       "       'American Black Duck', 'Bobcat', 'Common Opossum', 'Gyrfalcon',\n",
       "       'Herring Gull', 'Mourning Dove', 'Yellow-crowned Night-Heron',\n",
       "       'Great Horned Owl', 'American Kestrel',\n",
       "       'Amazonian White-tailed Trogon', 'Northern Mockingbird',\n",
       "       'American Crow', 'Brown Pelican', 'common box turtle', 'Barn Owl',\n",
       "       'Muscovy Duck', 'South American Dusky Dolphin',\n",
       "       'Black-and-white Warbler', 'Lesser Black-backed Gull',\n",
       "       'Common Loon', 'Alaska marmot', 'rhesus macaque',\n",
       "       'Florida Box Turtle', 'Red-shouldered Hawk',\n",
       "       'Florida softshell turtle', 'Laughing Gull', 'Alabama beach mouse',\n",
       "       'House Sparrow', 'Rock Dove', 'Southern Black Racer',\n",
       "       'Northern Gannet', 'white-tailed deer', 'Common Black-Hawk',\n",
       "       'Marsh Rabbit', 'Eastern Painted Turtle', 'Common Buzzard',\n",
       "       'Alaskan Hare', 'Ruby-throated Hummingbird',\n",
       "       'Double-crested Cormorant', 'loggerhead sea turtle',\n",
       "       'Green Sea Turtle', 'Eastern Screech-Owl', 'blue fox',\n",
       "       \"Cooper's Hawk\", 'Common Myna', 'Clay-colored Robin',\n",
       "       \"Bachman's Sparrow\", 'Coyote', 'Arizona Black Rattlesnake',\n",
       "       'Canada Goose', 'eastern fox squirrel', 'American Coot', 'muskrat',\n",
       "       'Alabama Red-bellied Cooter', 'fox squirrel',\n",
       "       'Northern Saw-whet Owl', 'rock squirrel', 'Least Weasel',\n",
       "       'common green sea turtle', 'Arizona Coral Snake',\n",
       "       \"Swainson's Hawk\", 'Red-bellied Woodpecker', 'gray squirrel',\n",
       "       'Nayarit squirrel', \"Harris's Hawk\",\n",
       "       'Virginia northern flying squirrel', 'Domestic Rabbit',\n",
       "       'Striped Skunk', 'Big Cypress fox squirrel', 'woodchuck',\n",
       "       'Dismal Swamp southeastern shrew', 'European Honey Buzzard',\n",
       "       'Common Garter Snake', 'white-sided jack rabbit', 'Wood Duck',\n",
       "       'Mute Swan', 'Black-masked Racer', 'Raccoon dog', 'Common Pigeon',\n",
       "       'American Hog-nosed Skunk', 'northern raccoon', 'Domestic Duck',\n",
       "       'Hairy Woodpecker', 'African Black Duck', 'American Tree Sparrow',\n",
       "       'European Starling', 'Chipping Sparrow', 'Blue Racer',\n",
       "       'North American Porcupine', 'Antelope Jackrabbit',\n",
       "       'Black-capped Chickadee', 'Milk Snake',\n",
       "       'Brazilian Gracile Opossum', 'Bay-breasted Warbler', 'Osprey',\n",
       "       'Pileated Woodpecker', 'Black Kite', 'Boreal Chickadee',\n",
       "       'Booted Eagle', 'Acadian Flycatcher', 'Red-lored Amazon',\n",
       "       'eastern woodrat', 'Congo African Grey Parrot', 'White Cockatoo',\n",
       "       'Blue-crowned Lorikeet', 'Koala', 'red squirrel',\n",
       "       'little brown bat', 'Shiny Cowbird', 'Yellow-billed Cuckoo',\n",
       "       'Black-tailed Jackrabbit', 'Common ringtail possum',\n",
       "       'Common Kestrel', 'Gray Fox', 'Arizona gray squirrel',\n",
       "       'European Badger', 'Black-backed Jackal', 'American Golden Plover',\n",
       "       'Brush-tailed Phascogale', 'Maned Wolf',\n",
       "       'American Peregrine Falcon', 'Afro-American House Gecko',\n",
       "       'Common Blackbird', 'Gray Seal', 'Lesser Scaup',\n",
       "       'American Golden-Plover', 'Domestic Guinea Pig',\n",
       "       'Great Blue Heron', 'Red-fronted Parrotlet', 'Akikiki',\n",
       "       'House Finch', 'Marsh Owl', 'Harbor Seal',\n",
       "       'Eastern Collared Lizard', 'Rainbow Lorikeet',\n",
       "       'Reticulated Python', 'Snapping Turtle', 'Florida mud turtle',\n",
       "       'Cackling Goose', 'Ruddy Duck', 'Eastern Mud Turtle',\n",
       "       'eastern chipmunk', 'Short-toed Rock Thrush'], dtype=object)"
      ]
     },
     "execution_count": 10,
     "metadata": {},
     "output_type": "execute_result"
    }
   ],
   "source": [
    "df['Common Species Name'].unique()"
   ]
  },
  {
   "cell_type": "code",
   "execution_count": 12,
   "metadata": {},
   "outputs": [
    {
     "data": {
      "text/plain": [
       "array(['Brown Wood Turtle', 'Vermilion Flycatcher', 'Red-Tailed Hawk',\n",
       "       'Blue Jay', 'Eastern Gray Squirrel', 'Southern Flying Squirrel',\n",
       "       'Barred Owl', 'Turkey Vulture', 'American Robin', 'Green Heron',\n",
       "       'Mallard', 'Black-Tailed Jackrabbit', 'Eastern Box Turtle',\n",
       "       'Common Raccoon', 'Big Brown Bat', 'Northwestern Crow',\n",
       "       'Fish Crow', 'Key West Quail-Dove', 'Northern Cardinal', 'Red Fox',\n",
       "       'Gopher Tortoise', 'Eastern Cottontail', 'Black-Billed Magpie',\n",
       "       'Gray Wolf', 'Black-bellied Whistling Duck', 'Rock Pigeon',\n",
       "       'Bald Eagle', 'Black-Tailed Deer', 'Virginia Opossum',\n",
       "       'Cascade Golden-Mantled Ground Squirrel', 'American Black Duck',\n",
       "       'Bobcat', 'Common Opossum', 'Gyrfalcon', 'Herring Gull',\n",
       "       'Mourning Dove', 'Yellow-Crowned Night-Heron', 'Great Horned Owl',\n",
       "       'American Kestrel', 'Amazonian White-tailed Trogon',\n",
       "       'Northern Mockingbird', 'American Crow', 'Brown Pelican',\n",
       "       'Common Box Turtle', 'Barn Owl', 'Muscovy Duck',\n",
       "       'South American Dusky Dolphin', 'Black-And-White Warbler',\n",
       "       'Lesser Black-Backed Gull', 'Common Loon', 'Alaska marmot',\n",
       "       'rhesus macaque', 'Florida Box Turtle', 'Red-Shouldered Hawk',\n",
       "       'Florida Softshell Turtle', 'Laughing Gull', 'Alabama beach mouse',\n",
       "       'House Sparrow', 'Rock Dove', 'Southern Black Racer',\n",
       "       'Northern Gannet', 'White-Tailed Deer', 'Common Black-Hawk',\n",
       "       'Marsh Rabbit', 'Eastern Painted Turtle', 'Common Buzzard',\n",
       "       'Alaskan Hare', 'Ruby-Throated Hummingbird',\n",
       "       'Double-Crested Cormorant', 'Loggerhead Sea Turtle',\n",
       "       'Green Sea Turtle', 'Eastern Screech-Owl', 'Blue Fox',\n",
       "       \"Cooper's Hawk\", 'Common Myna', 'Clay-Colored Robin',\n",
       "       \"Bachman's Sparrow\", 'Coyote', 'Arizona Black Rattlesnake',\n",
       "       'Canada Goose', 'Eastern Fox Squirrel', 'American Coot', 'Muskrat',\n",
       "       'Alabama Red-Bellied Cooter', 'Fox Squirrel',\n",
       "       'Northern Saw-Whet Owl', 'Rock Squirrel', 'Least Weasel',\n",
       "       'Arizona Coral Snake', \"Swainson's Hawk\", 'Red-Bellied Woodpecker',\n",
       "       'gray squirrel', 'Nayarit Squirrel', \"Harris's Hawk\",\n",
       "       'Virginia Northern Flying Squirrel', 'Domestic Rabbit',\n",
       "       'Striped Skunk', 'Woodchuck', 'Dismal Swamp Southeastern Shrew',\n",
       "       'European Honey Buzzard', 'Common Garter Snake',\n",
       "       'White-Sided Jackrabbit', 'Wood Duck', 'Mute Swan',\n",
       "       'Black-Masked Racer', 'Raccoon Dog', 'Common Pigeon',\n",
       "       'American Hog-Nosed Skunk', 'Domestic Duck', 'Hairy Woodpecker',\n",
       "       'African Black Duck', 'American Tree Sparrow', 'European Starling',\n",
       "       'Chipping Sparrow', 'Blue Racer', 'North American Porcupine',\n",
       "       'Antelope Jackrabbit', 'Black-Capped Chickadee', 'Milk Snake',\n",
       "       'Brazilian Gracile Opossum', 'Bay-Breasted Warbler', 'Osprey',\n",
       "       'Pileated Woodpecker', 'Black Kite', 'Boreal Chickadee',\n",
       "       'Booted Eagle', 'Acadian Flycatcher', 'Red-lored Amazon',\n",
       "       'eastern woodrat', 'Congo African Grey Parrot', 'White Cockatoo',\n",
       "       'Blue-crowned Lorikeet', 'Koala', 'red squirrel',\n",
       "       'little brown bat', 'Shiny Cowbird', 'Yellow-billed Cuckoo',\n",
       "       'Black-tailed Jackrabbit', 'Ringtail Possum', 'Common Kestrel',\n",
       "       'Gray Fox', 'Arizona gray squirrel', 'European Badger',\n",
       "       'Black-backed Jackal', 'American Golden Plover',\n",
       "       'Brush-tailed Phascogale', 'Maned Wolf',\n",
       "       'American Peregrine Falcon', 'Afro-American House Gecko',\n",
       "       'Common Blackbird', 'Gray Seal', 'Lesser Scaup',\n",
       "       'American Golden-Plover', 'Domestic Guinea Pig',\n",
       "       'Great Blue Heron', 'Red-fronted Parrotlet', 'Akikiki',\n",
       "       'House Finch', 'Marsh Owl', 'Harbor Seal',\n",
       "       'Eastern Collared Lizard', 'Rainbow Lorikeet',\n",
       "       'Reticulated Python', 'Snapping Turtle', 'Florida mud turtle',\n",
       "       'Cackling Goose', 'Ruddy Duck', 'Eastern Mud Turtle',\n",
       "       'Eastern Chipmunk', 'Short-Toed Rock Thrush'], dtype=object)"
      ]
     },
     "execution_count": 12,
     "metadata": {},
     "output_type": "execute_result"
    }
   ],
   "source": [
    "mapping = {\n",
    "    'brown wood turtle': 'Brown Wood Turtle',\n",
    "    'vermilion flycatcher': 'Vermilion Flycatcher',\n",
    "    'red-tailed hawk': 'Red-Tailed Hawk',\n",
    "    'eastern gray squirrel': 'Eastern Gray Squirrel',\n",
    "    'southern flying squirrel': 'Southern Flying Squirrel',\n",
    "    'barred owl': 'Barred Owl',\n",
    "    'turkey vulture': 'Turkey Vulture',\n",
    "    'american robin': 'American Robin',\n",
    "    'green heron': 'Green Heron',\n",
    "    'mallard': 'Mallard',\n",
    "    'black-tailed jack rabbit': 'Black-Tailed Jackrabbit',\n",
    "    'raccoon': 'Common Raccoon',\n",
    "    'big brown bat': 'Big Brown Bat',\n",
    "    'northwestern crow': 'Northwestern Crow',\n",
    "    'fish crow': 'Fish Crow',\n",
    "    'northern cardinal': 'Northern Cardinal',\n",
    "    'red fox': 'Red Fox',\n",
    "    'eastern cottontail': 'Eastern Cottontail',\n",
    "    'black-billed magpie': 'Black-Billed Magpie',\n",
    "    'rock pigeon': 'Rock Pigeon',\n",
    "    'black-tailed deer': 'Black-Tailed Deer',\n",
    "    'virginia opossum': 'Virginia Opossum',\n",
    "    'cascade golden-mantled ground squirrel': 'Cascade Golden-Mantled Ground Squirrel',\n",
    "    'common raccoon': 'Common Raccoon',\n",
    "    'common opossum': 'Common Opossum',\n",
    "    'gyrfalcon': 'Gyrfalcon',\n",
    "    'bald eagle': 'Bald Eagle',\n",
    "    'yellow-crowned night-heron': 'Yellow-Crowned Night-Heron',\n",
    "    'mourning dove': 'Mourning Dove',\n",
    "    'american kestrel': 'American Kestrel',\n",
    "    'common box turtle': 'Common Box Turtle',\n",
    "    'south american dusky dolphin': 'South American Dusky Dolphin',\n",
    "    'black-and-white warbler': 'Black-And-White Warbler',\n",
    "    'lesser black-backed gull': 'Lesser Black-Backed Gull',\n",
    "    'florida box turtle': 'Florida Box Turtle',\n",
    "    'red-shouldered hawk': 'Red-Shouldered Hawk',\n",
    "    'brown pelican': 'Brown Pelican',\n",
    "    'florida softshell turtle': 'Florida Softshell Turtle',\n",
    "    'laughing gull': 'Laughing Gull',\n",
    "    'rock dove': 'Rock Dove',\n",
    "    'southern black racer': 'Southern Black Racer',\n",
    "    'northern gannet': 'Northern Gannet',\n",
    "    'eastern painted turtle': 'Eastern Painted Turtle',\n",
    "    'common buzzard': 'Common Buzzard',\n",
    "    'ruby-throated hummingbird': 'Ruby-Throated Hummingbird',\n",
    "    'double-crested cormorant': 'Double-Crested Cormorant',\n",
    "    'loggerhead sea turtle': 'Loggerhead Sea Turtle',\n",
    "    'green sea turtle': 'Green Sea Turtle',\n",
    "    'eastern screech-owl': 'Eastern Screech-Owl',\n",
    "    'eastern box turtle': 'Eastern Box Turtle',\n",
    "    'blue fox': 'Blue Fox',\n",
    "    \"cooper's hawk\": \"Cooper's Hawk\",\n",
    "    'common myna': 'Common Myna',\n",
    "    'american crow': 'American Crow',\n",
    "    'clay-colored robin': 'Clay-Colored Robin',\n",
    "    \"bachman's sparrow\": \"Bachman's Sparrow\",\n",
    "    'gray wolf': 'Gray Wolf',\n",
    "    'coyote': 'Coyote',\n",
    "    'arizona black rattlesnake': 'Arizona Black Rattlesnake',\n",
    "    'canada goose': 'Canada Goose',\n",
    "    'eastern fox squirrel': 'Eastern Fox Squirrel',\n",
    "    'american coot': 'American Coot',\n",
    "    'muskrat': 'Muskrat',\n",
    "    'alabama red-bellied cooter': 'Alabama Red-Bellied Cooter',\n",
    "    'fox squirrel': 'Fox Squirrel',\n",
    "    'northern saw-whet owl': 'Northern Saw-Whet Owl',\n",
    "    'rock squirrel': 'Rock Squirrel',\n",
    "    'least weasel': 'Least Weasel',\n",
    "    'common green sea turtle': 'Green Sea Turtle',\n",
    "    'arizona coral snake': 'Arizona Coral Snake',\n",
    "    \"swainson's hawk\": \"Swainson's Hawk\",\n",
    "    'red-bellied woodpecker': 'Red-Bellied Woodpecker',\n",
    "    'nayarit squirrel': 'Nayarit Squirrel',\n",
    "    \"harris's hawk\": \"Harris's Hawk\",\n",
    "    'virginia northern flying squirrel': 'Virginia Northern Flying Squirrel',\n",
    "    'domestic rabbit': 'Domestic Rabbit',\n",
    "    'striped skunk': 'Striped Skunk',\n",
    "    'big cypress fox squirrel': 'Fox Squirrel',\n",
    "    'woodchuck': 'Woodchuck',\n",
    "    'dismal swamp southeastern shrew': 'Dismal Swamp Southeastern Shrew',\n",
    "    'european honey buzzard': 'European Honey Buzzard',\n",
    "    'common garter snake': 'Common Garter Snake',\n",
    "    'white-sided jack rabbit': 'White-Sided Jackrabbit',\n",
    "    'wood duck': 'Wood Duck',\n",
    "    'mute swan': 'Mute Swan',\n",
    "    'northern mockingbird': 'Northern Mockingbird',\n",
    "    'black-masked racer': 'Black-Masked Racer',\n",
    "    'raccoon dog': 'Raccoon Dog',\n",
    "    'common pigeon': 'Common Pigeon',\n",
    "    'american hog-nosed skunk': 'American Hog-Nosed Skunk',\n",
    "    'northern raccoon': 'Common Raccoon',\n",
    "    'domestic duck': 'Domestic Duck',\n",
    "    'hairy woodpecker': 'Hairy Woodpecker',\n",
    "    'great horned owl': 'Great Horned Owl',\n",
    "    'african black duck': 'African Black Duck',\n",
    "    'american tree sparrow': 'American Tree Sparrow',\n",
    "    'european starling': 'European Starling',\n",
    "    'chipping sparrow': 'Chipping Sparrow',\n",
    "    'blue racer': 'Blue Racer',\n",
    "    'white-tailed deer': 'White-Tailed Deer',\n",
    "    'north american porcupine': 'North American Porcupine',\n",
    "    'antelope jackrabbit': 'Antelope Jackrabbit',\n",
    "    'blue jay': 'Blue Jay',\n",
    "    'black-capped chickadee': 'Black-Capped Chickadee',\n",
    "    'milk snake': 'Milk Snake',\n",
    "    'brazilian gracile opossum': 'Brazilian Gracile Opossum',\n",
    "    'bay-breasted warbler': 'Bay-Breasted Warbler',\n",
    "    'osprey': 'Osprey',\n",
    "    'boreal chickadee': 'Boreal Chickadee',\n",
    "    'booted eagle': 'Booted Eagle',\n",
    "    'common ringtail possum': 'Ringtail Possum',\n",
    "    'koala': 'Koala',\n",
    "    'gray seal': 'Gray Seal',\n",
    "    'lesser scaup': 'Lesser Scaup',\n",
    "    'american golden-plover': 'American Golden-Plover',\n",
    "    'domestic guinea pig': 'Domestic Guinea Pig',\n",
    "    'great blue heron': 'Great Blue Heron',\n",
    "    'common loon': 'Common Loon',\n",
    "    'house finch': 'House Finch',\n",
    "    'marsh owl': 'Marsh Owl',\n",
    "    'harbor seal': 'Harbor Seal',\n",
    "    'gray fox': 'Gray Fox',\n",
    "    'snapping turtle': 'Snapping Turtle',\n",
    "    'cackling goose': 'Cackling Goose',\n",
    "    'barn owl': 'Barn Owl',\n",
    "    'ruddy duck': 'Ruddy Duck',\n",
    "    'eastern mud turtle': 'Eastern Mud Turtle',\n",
    "    'eastern chipmunk': 'Eastern Chipmunk',\n",
    "    'short-toed rock thrush': 'Short-Toed Rock Thrush'\n",
    "}\n",
    "\n",
    "df.loc[:, 'Common Species Name'] = df['Common Species Name'].str.lower().map(mapping).fillna(df['Common Species Name'])\n",
    "df['Common Species Name'].unique()\n",
    "\n"
   ]
  },
  {
   "cell_type": "markdown",
   "metadata": {},
   "source": [
    "### Species (latin/scientific) name"
   ]
  },
  {
   "cell_type": "code",
   "execution_count": 13,
   "metadata": {},
   "outputs": [
    {
     "data": {
      "text/plain": [
       "array(['annulata', 'rubinus', 'jamaicensis', 'cristata', 'carolinensis',\n",
       "       'volans', 'varia', 'aura', 'migratorius', 'virescens',\n",
       "       'platyrhynchos', 'californicus', 'carolina', 'lotor', 'fuscus',\n",
       "       'caurinus', 'ossifragus', 'chrysia', 'cardinalis', 'vulpes',\n",
       "       'polyphemus', 'floridanus', 'hudsonia', 'lupus', 'autumnalis',\n",
       "       'livia', 'leucocephalus', 'hemionus', 'virginiana', 'saturatus',\n",
       "       'rubripes', 'rufus', 'marsupialis', 'rusticolus', 'argentatus',\n",
       "       'macroura', 'violacea', 'virginianus', 'sparverius', 'viridis',\n",
       "       'polyglottos', 'brachyrhynchos', 'occidentalis', 'alba',\n",
       "       'moschata', 'obscurus', 'immer', 'broweri', 'mulatta', 'lineatus',\n",
       "       'ferox', 'atricilla', 'polionotus', 'domesticus', 'constrictor',\n",
       "       'bassanus', 'anthracinus', 'palustris', 'picta', 'buteo', 'othus',\n",
       "       'colubris', 'auritus', 'caretta', 'mydas', 'asio', 'lagopus',\n",
       "       'cooperii', 'tristis', 'grayi', 'aestivalis', 'latrans',\n",
       "       'oreganus', 'canadensis', 'niger', 'americana', 'zibethicus',\n",
       "       'alabamensis', 'acadicus', 'variegatus', 'nivalis', 'euryxanthus',\n",
       "       'swainsoni', 'carolinus', 'nayaritensis', 'unicinctus', 'sabrinus',\n",
       "       'cuniculus', 'mephitis', 'monax', 'longirostris', 'apivorus',\n",
       "       'sirtalis', 'callotis', 'sponsa', 'olor', 'procyonoides',\n",
       "       'leuconotus', 'sp.', 'villosus', 'sparsaÂ\\xa0Â\\xa0', 'arborea',\n",
       "       'vulgaris', 'passerina', 'dorsatus', 'alleni', 'atricapillus',\n",
       "       'triangulum', 'microtarsus', 'castanea', 'haliaetus', 'pileatus',\n",
       "       'migrans', 'hudsonica', 'pennatus', 'autumnalisÂ\\xa0Â\\xa0',\n",
       "       'floridana', 'erithacus', 'albaÂ\\xa0', 'australis', 'cinereus',\n",
       "       'hudsonicus', 'lucifugus', 'bonariensis', 'americanus',\n",
       "       'peregrinus', 'tinnunculus', 'cinereoargenteus', 'arizonensis',\n",
       "       'meles', 'mesomelas', 'pica', 'dominica', 'tapoatafa',\n",
       "       'brachyurus', 'mabouia', 'merula', 'grypus', 'affinis',\n",
       "       'porcellus', 'herodias', 'costaricensis', 'bairdi', 'mexicanus',\n",
       "       'capensisÂ\\xa0Â\\xa0', 'vitulina', 'collaris', 'haematodus',\n",
       "       'reticulatus', 'serpentina', 'subrubrum', 'hutchinsii', 'striatus',\n",
       "       'brevipes'], dtype=object)"
      ]
     },
     "execution_count": 13,
     "metadata": {},
     "output_type": "execute_result"
    }
   ],
   "source": [
    "df['Species'].unique()"
   ]
  },
  {
   "cell_type": "code",
   "execution_count": 14,
   "metadata": {},
   "outputs": [
    {
     "data": {
      "text/plain": [
       "array(['annulata', 'rubinus', 'jamaicensis', 'cristata', 'carolinensis',\n",
       "       'volans', 'varia', 'aura', 'migratorius', 'virescens',\n",
       "       'platyrhynchos', 'californicus', 'carolina', 'lotor', 'fuscus',\n",
       "       'caurinus', 'ossifragus', 'chrysia', 'cardinalis', 'vulpes',\n",
       "       'polyphemus', 'floridanus', 'hudsonia', 'lupus', 'autumnalis',\n",
       "       'livia', 'leucocephalus', 'hemionus', 'virginiana', 'saturatus',\n",
       "       'rubripes', 'rufus', 'marsupialis', 'rusticolus', 'argentatus',\n",
       "       'macroura', 'violacea', 'virginianus', 'sparverius', 'viridis',\n",
       "       'polyglottos', 'brachyrhynchos', 'occidentalis', 'alba',\n",
       "       'moschata', 'obscurus', 'immer', 'broweri', 'mulatta', 'lineatus',\n",
       "       'ferox', 'atricilla', 'polionotus', 'domesticus', 'constrictor',\n",
       "       'bassanus', 'anthracinus', 'palustris', 'picta', 'buteo', 'othus',\n",
       "       'colubris', 'auritus', 'caretta', 'mydas', 'asio', 'lagopus',\n",
       "       'cooperii', 'tristis', 'grayi', 'aestivalis', 'latrans',\n",
       "       'oreganus', 'canadensis', 'niger', 'americana', 'zibethicus',\n",
       "       'alabamensis', 'acadicus', 'variegatus', 'nivalis', 'euryxanthus',\n",
       "       'swainsoni', 'carolinus', 'nayaritensis', 'unicinctus', 'sabrinus',\n",
       "       'cuniculus', 'mephitis', 'monax', 'longirostris', 'apivorus',\n",
       "       'sirtalis', 'callotis', 'sponsa', 'olor', 'procyonoides',\n",
       "       'leuconotus', 'sp.', 'villosus', 'sparsaÂ\\xa0Â\\xa0', 'arborea',\n",
       "       'vulgaris', 'passerina', 'dorsatus', 'alleni', 'atricapillus',\n",
       "       'triangulum', 'microtarsus', 'castanea', 'haliaetus', 'pileatus',\n",
       "       'migrans', 'hudsonicus', 'pennatus', 'autumnalisÂ\\xa0Â\\xa0',\n",
       "       'floridana', 'erithacus', 'albaÂ\\xa0', 'australis', 'cinereus',\n",
       "       'lucifugus', 'bonariensis', 'americanus', 'peregrinus',\n",
       "       'tinnunculus', 'cinereoargenteus', 'arizonensis', 'meles',\n",
       "       'mesomelas', 'pica', 'dominica', 'tapoatafa', 'brachyurus',\n",
       "       'mabouia', 'merula', 'grypus', 'affinis', 'porcellus', 'herodias',\n",
       "       'costaricensis', 'bairdi', 'mexicanus', 'capensisÂ\\xa0Â\\xa0',\n",
       "       'vitulina', 'collaris', 'haematodus', 'reticulatus', 'serpentina',\n",
       "       'subrubrum', 'hutchinsii', 'striatus', 'brevipes'], dtype=object)"
      ]
     },
     "execution_count": 14,
     "metadata": {},
     "output_type": "execute_result"
    }
   ],
   "source": [
    "mapping = {\n",
    "    'annulata': 'annulata',\n",
    "    'rubinus': 'rubinus',\n",
    "    'jamaicensis': 'jamaicensis',\n",
    "    'carolinensis': 'carolinensis',\n",
    "    'volans': 'volans',\n",
    "    'varia': 'varia',\n",
    "    'aura': 'aura',\n",
    "    'migratorius': 'migratorius',\n",
    "    'virescens': 'virescens',\n",
    "    'platyrhynchos': 'platyrhynchos',\n",
    "    'californicus': 'californicus',\n",
    "    'lotor': 'lotor',\n",
    "    'fuscus': 'fuscus',\n",
    "    'caurinus': 'caurinus',\n",
    "    'ossifragus': 'ossifragus',\n",
    "    'cardinalis': 'cardinalis',\n",
    "    'vulpes': 'vulpes',\n",
    "    'floridanus': 'floridanus',\n",
    "    'hudsonia': 'hudsonia',\n",
    "    'livia': 'livia',\n",
    "    'hemionus': 'hemionus',\n",
    "    'virginiana': 'virginiana',\n",
    "    'saturatus': 'saturatus',\n",
    "    'marsupialis': 'marsupialis',\n",
    "    'rusticolus': 'rusticolus',\n",
    "    'leucocephalus': 'leucocephalus',\n",
    "    'violacea': 'violacea',\n",
    "    'macroura': 'macroura',\n",
    "    'sparverius': 'sparverius',\n",
    "    'carolina': 'carolina',\n",
    "    'obscurus': 'obscurus',\n",
    "    'lineatus': 'lineatus',\n",
    "    'occidentalis': 'occidentalis',\n",
    "    'ferox': 'ferox',\n",
    "    'atricilla': 'atricilla',\n",
    "    'constrictor': 'constrictor',\n",
    "    'bassanus': 'bassanus',\n",
    "    'picta': 'picta',\n",
    "    'buteo': 'buteo',\n",
    "    'colubris': 'colubris',\n",
    "    'auritus': 'auritus',\n",
    "    'caretta': 'caretta',\n",
    "    'mydas': 'mydas',\n",
    "    'asio': 'asio',\n",
    "    'lagopus': 'lagopus',\n",
    "    'cooperii': 'cooperii',\n",
    "    'tristis': 'tristis',\n",
    "    'brachyrhynchos': 'brachyrhynchos',\n",
    "    'grayi': 'grayi',\n",
    "    'aestivalis': 'aestivalis',\n",
    "    'lupus': 'lupus',\n",
    "    'latrans': 'latrans',\n",
    "    'oreganus': 'oreganus',\n",
    "    'canadensis': 'canadensis',\n",
    "    'niger': 'niger',\n",
    "    'americana': 'americana',\n",
    "    'zibethicus': 'zibethicus',\n",
    "    'alabamensis': 'alabamensis',\n",
    "    'acadicus': 'acadicus',\n",
    "    'variegatus': 'variegatus',\n",
    "    'nivalis': 'nivalis',\n",
    "    'euryxanthus': 'euryxanthus',\n",
    "    'swainsoni': 'swainsoni',\n",
    "    'carolinus': 'carolinus',\n",
    "    'nayaritensis': 'nayaritensis',\n",
    "    'unicinctus': 'unicinctus',\n",
    "    'sabrinus': 'sabrinus',\n",
    "    'cuniculus': 'cuniculus',\n",
    "    'mephitis': 'mephitis',\n",
    "    'monax': 'monax',\n",
    "    'longirostris': 'longirostris',\n",
    "    'apivorus': 'apivorus',\n",
    "    'sirtalis': 'sirtalis',\n",
    "    'callotis': 'callotis',\n",
    "    'sponsa': 'sponsa',\n",
    "    'olor': 'olor',\n",
    "    'polyglottos': 'polyglottos',\n",
    "    'procyonoides': 'procyonoides',\n",
    "    'leuconotus': 'leuconotus',\n",
    "    'villosus': 'villosus',\n",
    "    'virginianus': 'virginianus',  # Two animals have the same genuis but different species \n",
    "    'sparsaÂ\\xa0Â\\xa0': 'sparsa',  # Removing special characters\n",
    "    'arborea': 'arborea',\n",
    "    'vulgaris': 'vulgaris',\n",
    "    'passerina': 'passerina',\n",
    "    'dorsatus': 'dorsatus',\n",
    "    'alleni': 'alleni',\n",
    "    'cristata': 'cristata',\n",
    "    'atricapillus': 'atricapillus',\n",
    "    'triangulum': 'triangulum',\n",
    "    'microtarsus': 'microtarsus',\n",
    "    'castanea': 'castanea',\n",
    "    'haliaetus': 'haliaetus',\n",
    "    'hudsonica': 'hudsonicus',  # Correcting 'hudsonica' to 'hudsonicus'\n",
    "    'pennatus': 'pennatus',\n",
    "    'peregrinus': 'peregrinus',\n",
    "    'cinereus': 'cinereus',\n",
    "    'grypus': 'grypus',\n",
    "    'affinis': 'affinis',\n",
    "    'dominica': 'dominica',\n",
    "    'porcellus': 'porcellus',\n",
    "    'herodias': 'herodias',\n",
    "    'immer': 'immer',\n",
    "    'mexicanus': 'mexicanus',\n",
    "    'capensisÂ\\xa0Â\\xa0': 'capensis',  # Removing special characters\n",
    "    'vitulina': 'vitulina',\n",
    "    'cinereoargenteus': 'cinereoargenteus',\n",
    "    'serpentina': 'serpentina',\n",
    "    'hutchinsii': 'hutchinsii',\n",
    "    'alba': 'alba',\n",
    "    'subrubrum': 'subrubrum',\n",
    "    'striatus': 'striatus',\n",
    "    'brevipes': 'brevipes',\n",
    "}\n",
    "df.loc[:, 'Species'] = df['Species'].str.lower().map(mapping).fillna(df['Species'])\n",
    "df['Species'].unique()\n",
    "\n",
    "\n"
   ]
  }
 ],
 "metadata": {
  "kernelspec": {
   "display_name": "wildlife",
   "language": "python",
   "name": "python3"
  },
  "language_info": {
   "codemirror_mode": {
    "name": "ipython",
    "version": 3
   },
   "file_extension": ".py",
   "mimetype": "text/x-python",
   "name": "python",
   "nbconvert_exporter": "python",
   "pygments_lexer": "ipython3",
   "version": "3.10.9"
  }
 },
 "nbformat": 4,
 "nbformat_minor": 2
}
