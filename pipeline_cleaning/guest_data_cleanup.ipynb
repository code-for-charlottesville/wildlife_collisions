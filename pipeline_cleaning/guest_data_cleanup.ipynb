{
 "cells": [
  {
   "cell_type": "code",
   "execution_count": 4,
   "metadata": {},
   "outputs": [],
   "source": [
    "import pandas as pd"
   ]
  },
  {
   "cell_type": "code",
   "execution_count": 11,
   "metadata": {},
   "outputs": [],
   "source": [
    "# Read in an xls file\n",
    "df = pd.read_csv('report_guest_data_va.csv', header=1)"
   ]
  },
  {
   "cell_type": "code",
   "execution_count": 12,
   "metadata": {},
   "outputs": [
    {
     "data": {
      "text/html": [
       "<div>\n",
       "<style scoped>\n",
       "    .dataframe tbody tr th:only-of-type {\n",
       "        vertical-align: middle;\n",
       "    }\n",
       "\n",
       "    .dataframe tbody tr th {\n",
       "        vertical-align: top;\n",
       "    }\n",
       "\n",
       "    .dataframe thead th {\n",
       "        text-align: right;\n",
       "    }\n",
       "</style>\n",
       "<table border=\"1\" class=\"dataframe\">\n",
       "  <thead>\n",
       "    <tr style=\"text-align: right;\">\n",
       "      <th></th>\n",
       "      <th>Organization Name</th>\n",
       "      <th>Organization Address</th>\n",
       "      <th>Organization City</th>\n",
       "      <th>Organization State</th>\n",
       "      <th>Organization ZIP</th>\n",
       "      <th>Jurisdiction</th>\n",
       "      <th>Organization Country</th>\n",
       "      <th>Phone</th>\n",
       "      <th>Status</th>\n",
       "      <th>Case Number</th>\n",
       "      <th>...</th>\n",
       "      <th>Primary</th>\n",
       "      <th>Suspected/Observed</th>\n",
       "      <th>Admission Comments</th>\n",
       "      <th>Rescue State</th>\n",
       "      <th>Rescue Juristiction</th>\n",
       "      <th>Rescue Address</th>\n",
       "      <th>Other Rescue Information</th>\n",
       "      <th>Latitude</th>\n",
       "      <th>Longitude</th>\n",
       "      <th>Elevation</th>\n",
       "    </tr>\n",
       "  </thead>\n",
       "  <tbody>\n",
       "    <tr>\n",
       "      <th>0</th>\n",
       "      <td>Visitor WILD-ONe Account</td>\n",
       "      <td>1800 South Delphine Ave PO Box 1557</td>\n",
       "      <td>Waynesboro</td>\n",
       "      <td>VA</td>\n",
       "      <td>22980</td>\n",
       "      <td>Waynesboro (City)</td>\n",
       "      <td>United States</td>\n",
       "      <td>(540) 942-9453</td>\n",
       "      <td>Active</td>\n",
       "      <td>10-0000095</td>\n",
       "      <td>...</td>\n",
       "      <td>Yes</td>\n",
       "      <td>Suspected</td>\n",
       "      <td>NaN</td>\n",
       "      <td>ID</td>\n",
       "      <td>Boise County</td>\n",
       "      <td>NaN</td>\n",
       "      <td>NaN</td>\n",
       "      <td>43.612476</td>\n",
       "      <td>-116.216784</td>\n",
       "      <td>817.056641</td>\n",
       "    </tr>\n",
       "    <tr>\n",
       "      <th>1</th>\n",
       "      <td>Visitor WILD-ONe Account</td>\n",
       "      <td>1800 South Delphine Ave PO Box 1557</td>\n",
       "      <td>Waynesboro</td>\n",
       "      <td>VA</td>\n",
       "      <td>22980</td>\n",
       "      <td>Waynesboro (City)</td>\n",
       "      <td>United States</td>\n",
       "      <td>(540) 942-9453</td>\n",
       "      <td>Active</td>\n",
       "      <td>10-0000096</td>\n",
       "      <td>...</td>\n",
       "      <td>Yes</td>\n",
       "      <td>Suspected</td>\n",
       "      <td>NaN</td>\n",
       "      <td>TX</td>\n",
       "      <td>Brown County</td>\n",
       "      <td>NaN</td>\n",
       "      <td>NaN</td>\n",
       "      <td>28.778392</td>\n",
       "      <td>-89.033203</td>\n",
       "      <td>-403.770294</td>\n",
       "    </tr>\n",
       "    <tr>\n",
       "      <th>2</th>\n",
       "      <td>Visitor WILD-ONe Account</td>\n",
       "      <td>1800 South Delphine Ave PO Box 1557</td>\n",
       "      <td>Waynesboro</td>\n",
       "      <td>VA</td>\n",
       "      <td>22980</td>\n",
       "      <td>Waynesboro (City)</td>\n",
       "      <td>United States</td>\n",
       "      <td>(540) 942-9453</td>\n",
       "      <td>Active</td>\n",
       "      <td>10-0000106</td>\n",
       "      <td>...</td>\n",
       "      <td>Yes</td>\n",
       "      <td>Suspected</td>\n",
       "      <td>NaN</td>\n",
       "      <td>FL</td>\n",
       "      <td>Duval County/City of Jacksonville</td>\n",
       "      <td>NaN</td>\n",
       "      <td>NaN</td>\n",
       "      <td>39.749282</td>\n",
       "      <td>-84.194842</td>\n",
       "      <td>224.742340</td>\n",
       "    </tr>\n",
       "    <tr>\n",
       "      <th>3</th>\n",
       "      <td>Visitor WILD-ONe Account</td>\n",
       "      <td>1800 South Delphine Ave PO Box 1557</td>\n",
       "      <td>Waynesboro</td>\n",
       "      <td>VA</td>\n",
       "      <td>22980</td>\n",
       "      <td>Waynesboro (City)</td>\n",
       "      <td>United States</td>\n",
       "      <td>(540) 942-9453</td>\n",
       "      <td>Active</td>\n",
       "      <td>10-0000110</td>\n",
       "      <td>...</td>\n",
       "      <td>No</td>\n",
       "      <td>Observed</td>\n",
       "      <td>NaN</td>\n",
       "      <td>MN</td>\n",
       "      <td>Dakota County</td>\n",
       "      <td>NaN</td>\n",
       "      <td>NaN</td>\n",
       "      <td>NaN</td>\n",
       "      <td>NaN</td>\n",
       "      <td>NaN</td>\n",
       "    </tr>\n",
       "    <tr>\n",
       "      <th>4</th>\n",
       "      <td>Visitor WILD-ONe Account</td>\n",
       "      <td>1800 South Delphine Ave PO Box 1557</td>\n",
       "      <td>Waynesboro</td>\n",
       "      <td>VA</td>\n",
       "      <td>22980</td>\n",
       "      <td>Waynesboro (City)</td>\n",
       "      <td>United States</td>\n",
       "      <td>(540) 942-9453</td>\n",
       "      <td>Active</td>\n",
       "      <td>10-0000110</td>\n",
       "      <td>...</td>\n",
       "      <td>Yes</td>\n",
       "      <td>Suspected</td>\n",
       "      <td>NaN</td>\n",
       "      <td>MN</td>\n",
       "      <td>Dakota County</td>\n",
       "      <td>NaN</td>\n",
       "      <td>NaN</td>\n",
       "      <td>NaN</td>\n",
       "      <td>NaN</td>\n",
       "      <td>NaN</td>\n",
       "    </tr>\n",
       "  </tbody>\n",
       "</table>\n",
       "<p>5 rows × 37 columns</p>\n",
       "</div>"
      ],
      "text/plain": [
       "          Organization Name                 Organization Address  \\\n",
       "0  Visitor WILD-ONe Account  1800 South Delphine Ave PO Box 1557   \n",
       "1  Visitor WILD-ONe Account  1800 South Delphine Ave PO Box 1557   \n",
       "2  Visitor WILD-ONe Account  1800 South Delphine Ave PO Box 1557   \n",
       "3  Visitor WILD-ONe Account  1800 South Delphine Ave PO Box 1557   \n",
       "4  Visitor WILD-ONe Account  1800 South Delphine Ave PO Box 1557   \n",
       "\n",
       "  Organization City Organization State  Organization ZIP       Jurisdiction  \\\n",
       "0        Waynesboro                 VA             22980  Waynesboro (City)   \n",
       "1        Waynesboro                 VA             22980  Waynesboro (City)   \n",
       "2        Waynesboro                 VA             22980  Waynesboro (City)   \n",
       "3        Waynesboro                 VA             22980  Waynesboro (City)   \n",
       "4        Waynesboro                 VA             22980  Waynesboro (City)   \n",
       "\n",
       "  Organization Country           Phone  Status Case Number  ... Primary  \\\n",
       "0        United States  (540) 942-9453  Active  10-0000095  ...     Yes   \n",
       "1        United States  (540) 942-9453  Active  10-0000096  ...     Yes   \n",
       "2        United States  (540) 942-9453  Active  10-0000106  ...     Yes   \n",
       "3        United States  (540) 942-9453  Active  10-0000110  ...      No   \n",
       "4        United States  (540) 942-9453  Active  10-0000110  ...     Yes   \n",
       "\n",
       "  Suspected/Observed Admission Comments Rescue State  \\\n",
       "0          Suspected                NaN           ID   \n",
       "1          Suspected                NaN           TX   \n",
       "2          Suspected                NaN           FL   \n",
       "3           Observed                NaN           MN   \n",
       "4          Suspected                NaN           MN   \n",
       "\n",
       "                 Rescue Juristiction Rescue Address Other Rescue Information  \\\n",
       "0                       Boise County            NaN                      NaN   \n",
       "1                       Brown County            NaN                      NaN   \n",
       "2  Duval County/City of Jacksonville            NaN                      NaN   \n",
       "3                      Dakota County            NaN                      NaN   \n",
       "4                      Dakota County            NaN                      NaN   \n",
       "\n",
       "    Latitude   Longitude   Elevation  \n",
       "0  43.612476 -116.216784  817.056641  \n",
       "1  28.778392  -89.033203 -403.770294  \n",
       "2  39.749282  -84.194842  224.742340  \n",
       "3        NaN         NaN         NaN  \n",
       "4        NaN         NaN         NaN  \n",
       "\n",
       "[5 rows x 37 columns]"
      ]
     },
     "execution_count": 12,
     "metadata": {},
     "output_type": "execute_result"
    }
   ],
   "source": [
    "df.head()\n"
   ]
  },
  {
   "cell_type": "code",
   "execution_count": 13,
   "metadata": {},
   "outputs": [
    {
     "data": {
      "text/plain": [
       "Index(['Organization Name', 'Organization Address', 'Organization City',\n",
       "       'Organization State', 'Organization ZIP', 'Jurisdiction',\n",
       "       'Organization Country', 'Phone', 'Status', 'Case Number', 'Patient ID',\n",
       "       'Other Idenifier', 'Class', 'Common Species Name', 'Species',\n",
       "       'Subspecies', 'Genus', 'TSN Code', 'Gender', 'Patient Flag',\n",
       "       'Date Found', 'Time Found', 'Date Admitted', 'Time Admitted',\n",
       "       'Details of rescue', 'Care Given', 'Circumstances of Rescue', 'Primary',\n",
       "       'Suspected/Observed', 'Admission Comments', 'Rescue State',\n",
       "       'Rescue Juristiction', 'Rescue Address', 'Other Rescue Information',\n",
       "       'Latitude', 'Longitude', 'Elevation'],\n",
       "      dtype='object')"
      ]
     },
     "execution_count": 13,
     "metadata": {},
     "output_type": "execute_result"
    }
   ],
   "source": [
    "df.columns"
   ]
  },
  {
   "cell_type": "markdown",
   "metadata": {},
   "source": [
    "# Target Schema for Mapping\n"
   ]
  },
  {
   "cell_type": "code",
   "execution_count": null,
   "metadata": {},
   "outputs": [],
   "source": [
    "'Organization Name', 'Case Number', 'Patient ID', 'Common Species Name',\n",
    "       'Date Admitted', 'Circumstances of Rescue', 'Rescue State',\n",
    "       'Rescue Juristiction', 'Rescue Address', 'Other Rescue Information',\n",
    "       'Latitude', 'Longitude', 'Elevation', 'Disposition'"
   ]
  },
  {
   "cell_type": "markdown",
   "metadata": {},
   "source": [
    "## Drop Rows that have no Lat / Long information"
   ]
  },
  {
   "cell_type": "code",
   "execution_count": 21,
   "metadata": {},
   "outputs": [
    {
     "data": {
      "text/plain": [
       "np.int64(168)"
      ]
     },
     "execution_count": 21,
     "metadata": {},
     "output_type": "execute_result"
    }
   ],
   "source": [
    "# Count how many NaN values there are in the Latitude column\n",
    "df['Latitude'].isnull().sum()"
   ]
  },
  {
   "cell_type": "code",
   "execution_count": 24,
   "metadata": {},
   "outputs": [],
   "source": [
    "# Drop all rows with NaN values in the Latitude column\n",
    "df = df.dropna(subset=['Latitude'])\n",
    "assert df['Latitude'].isnull().sum() == 0"
   ]
  },
  {
   "cell_type": "code",
   "execution_count": 26,
   "metadata": {},
   "outputs": [],
   "source": [
    "# Check that there are no rows with NaN values in the Longitude column\n",
    "assert df['Longitude'].isnull().sum() == 0"
   ]
  },
  {
   "cell_type": "code",
   "execution_count": 16,
   "metadata": {},
   "outputs": [
    {
     "data": {
      "text/plain": [
       "array(['Waynesboro (City)'], dtype=object)"
      ]
     },
     "execution_count": 16,
     "metadata": {},
     "output_type": "execute_result"
    }
   ],
   "source": [
    "df['Jurisdiction'].unique()"
   ]
  },
  {
   "cell_type": "code",
   "execution_count": 19,
   "metadata": {},
   "outputs": [
    {
     "data": {
      "text/plain": [
       "array(['ID', 'TX', 'FL', 'MN', 'VA', 'MD', 'CA', 'NJ', 'NV', 'IL', 'WI',\n",
       "       'OR', 'MI', 'MT', 'UT', 'KA', 'IN', 'MS', 'OH', 'AK', 'WA', 'MO',\n",
       "       'VT', 'NY', 'IA', 'AL', 'GA', 'CT', 'OK', 'ME', 'NC', 'NE', 'AR',\n",
       "       'KY', 'PA', 'RI', 'AB', 'QC', 'BC', 'MB', 'MA', 'SC', 'NM', 'ND',\n",
       "       'LA', 'SD', 'CO', 'WY', 'AZ'], dtype=object)"
      ]
     },
     "execution_count": 19,
     "metadata": {},
     "output_type": "execute_result"
    }
   ],
   "source": [
    "df['Rescue State'].unique()"
   ]
  },
  {
   "cell_type": "code",
   "execution_count": null,
   "metadata": {},
   "outputs": [],
   "source": []
  }
 ],
 "metadata": {
  "kernelspec": {
   "display_name": "wildlife",
   "language": "python",
   "name": "python3"
  },
  "language_info": {
   "codemirror_mode": {
    "name": "ipython",
    "version": 3
   },
   "file_extension": ".py",
   "mimetype": "text/x-python",
   "name": "python",
   "nbconvert_exporter": "python",
   "pygments_lexer": "ipython3",
   "version": "3.10.12"
  }
 },
 "nbformat": 4,
 "nbformat_minor": 2
}
