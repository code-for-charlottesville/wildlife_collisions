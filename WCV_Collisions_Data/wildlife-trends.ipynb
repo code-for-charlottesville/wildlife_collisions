{
  "metadata": {
    "kernelspec": {
      "name": "python",
      "display_name": "Python (Pyodide)",
      "language": "python"
    },
    "language_info": {
      "codemirror_mode": {
        "name": "python",
        "version": 3
      },
      "file_extension": ".py",
      "mimetype": "text/x-python",
      "name": "python",
      "nbconvert_exporter": "python",
      "pygments_lexer": "ipython3",
      "version": "3.8"
    }
  },
  "nbformat_minor": 5,
  "nbformat": 4,
  "cells": [
    {
      "id": "c3a67a6c-c05c-4d3c-be8a-83a74370fe31",
      "cell_type": "markdown",
      "source": "# Wildlife GIS Trends\n\n## Yearly Trends\nThe number of collisions has been increasing over the years, with notable increases in recent years:\n- **2014**: 69 collisions\n- **2015**: 61 collisions\n- **2016**: 114 collisions\n- **2017**: 112 collisions\n- **2018**: 159 collisions\n- **2019**: 170 collisions\n- **2020**: 192 collisions\n- **2021**: 303 collisions\n- **2022**: 275 collisions\n- **2023**: 279 collisions\n\n## Monthly Trends\nCollisions are more frequent during certain months, particularly in the summer:\n- **July**: 258 collisions\n- **June**: 267 collisions\n- **May**: 249 collisions\n- **April**: 168 collisions\n- **August**: 158 collisions\n\n## Geographical Trends Analysis\n\n### Jurisdiction Trends\nThe top 10 jurisdictions with the highest number of collisions are:\n- **Augusta County**: 288 collisions\n- **Albemarle County**: 246 collisions\n- **Rockingham County**: 168 collisions\n- **Rockbridge County**: 96 collisions\n- **Waynesboro (City)**: 75 collisions\n- **Fluvanna County**: 71 collisions\n- **Nelson County**: 65 collisions\n- **Harrisonburg (City)**: 56 collisions\n- **Charlottesville (City)**: 54 collisions\n- **Staunton (City)**: 44 collisions\n\n## Summary of Trends Identified\n\n### Most Commonly Sent Animals\n- **Virginia Opossum**: 377\n- **Eastern Box Turtle**: 292\n- **Eastern Screech-owl**: 121\n- **Eastern Cottontail**: 75\n- **Eastern Gray Squirrel**: 69\n\n## Additional Analysis and Findings\n\n### General Species Categories\n- **Birds**: 585 collisions\n- **Turtles**: 405 collisions\n- **Marsupials**: 377 collisions\n- **Rodents**: 93 collisions\n- **Rabbits & Hares**: 76 collisions\n- **Owls**: 54 collisions\n- **Even-toed Ungulates & Whales**: 44 collisions\n- **Raccoons**: 23 collisions\n- **Foxes**: 19 collisions\n- **Ratsnakes**: 10 collisions\n\n### Analysis of Dispositions by Year\n- **2014**: 14 died, 29 euthanized, 18 released, 8 transferred\n- **2015**: 6 died, 40 euthanized, 7 released, 8 transferred\n- **2016**: 20 died, 60 euthanized, 26 released, 8 transferred\n- **2017**: 19 died, 71 euthanized, 13 released, 9 transferred\n- **2018**: 29 died, 102 euthanized, 21 released, 7 transferred\n- **2019**: 25 died, 103 euthanized, 40 released, 2 transferred\n- **2020**: 43 died, 118 euthanized, 26 released, 5 transferred\n- **2021**: 65 died, 173 euthanized, 51 released, 2 self-release, 12 transferred\n- **2022**: 71 died, 128 euthanized, 40 released, 1 self-release, 35 transferred\n- **2023**: 48 died, 158 euthanized, 36 released, 1 self-release, 20 transferred\n",
      "metadata": {}
    },
    {
      "id": "f9fef858-370a-49bb-a328-0e8a3e4b1f8c",
      "cell_type": "code",
      "source": "",
      "metadata": {
        "trusted": true
      },
      "outputs": [],
      "execution_count": null
    }
  ]
}