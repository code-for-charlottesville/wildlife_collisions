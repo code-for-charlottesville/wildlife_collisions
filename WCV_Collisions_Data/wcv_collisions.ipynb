{
 "cells": [
  {
   "cell_type": "code",
   "execution_count": 1,
   "metadata": {},
   "outputs": [],
   "source": [
    "import pandas as pd"
   ]
  },
  {
   "cell_type": "code",
   "execution_count": 2,
   "metadata": {},
   "outputs": [],
   "source": [
    "# Import the wcv collision data csv file into a dataframe\n",
    "df = pd.read_csv('WCV Collision Data.csv')\n"
   ]
  },
  {
   "cell_type": "code",
   "execution_count": 3,
   "metadata": {},
   "outputs": [
    {
     "data": {
      "text/html": [
       "<div>\n",
       "<style scoped>\n",
       "    .dataframe tbody tr th:only-of-type {\n",
       "        vertical-align: middle;\n",
       "    }\n",
       "\n",
       "    .dataframe tbody tr th {\n",
       "        vertical-align: top;\n",
       "    }\n",
       "\n",
       "    .dataframe thead th {\n",
       "        text-align: right;\n",
       "    }\n",
       "</style>\n",
       "<table border=\"1\" class=\"dataframe\">\n",
       "  <thead>\n",
       "    <tr style=\"text-align: right;\">\n",
       "      <th></th>\n",
       "      <th>Organization Name</th>\n",
       "      <th>Case Number</th>\n",
       "      <th>Patient ID</th>\n",
       "      <th>Common Species Name</th>\n",
       "      <th>Date Admitted</th>\n",
       "      <th>Circumstances of Rescue</th>\n",
       "      <th>Rescue State</th>\n",
       "      <th>Rescue Juristiction</th>\n",
       "      <th>Rescue Address</th>\n",
       "      <th>Other Rescue Information</th>\n",
       "      <th>Latitude</th>\n",
       "      <th>Longitude</th>\n",
       "      <th>Elevation</th>\n",
       "      <th>Disposition</th>\n",
       "    </tr>\n",
       "  </thead>\n",
       "  <tbody>\n",
       "    <tr>\n",
       "      <th>0</th>\n",
       "      <td>Wildlife Center of Virginia</td>\n",
       "      <td>19-0041317</td>\n",
       "      <td>19-2111</td>\n",
       "      <td>Yellow-bellied Slider</td>\n",
       "      <td>7/10/2019</td>\n",
       "      <td>Collision / Moving object / Car/truck/motorcycle</td>\n",
       "      <td>VA</td>\n",
       "      <td>New Kent County</td>\n",
       "      <td>1 Cooper Tavern Rd Suite A, Quinton, VA 23141,...</td>\n",
       "      <td>0.3 miles from Tom Brooks Lake</td>\n",
       "      <td>37.510148</td>\n",
       "      <td>-77.190808</td>\n",
       "      <td>15.395157</td>\n",
       "      <td>Released</td>\n",
       "    </tr>\n",
       "    <tr>\n",
       "      <th>1</th>\n",
       "      <td>Wildlife Center of Virginia</td>\n",
       "      <td>19-0051154</td>\n",
       "      <td>19-2546</td>\n",
       "      <td>Eastern Box Turtle</td>\n",
       "      <td>8/10/2019</td>\n",
       "      <td>Collision / Moving object / Car/truck/motorcycle</td>\n",
       "      <td>VA</td>\n",
       "      <td>Richmond (City)</td>\n",
       "      <td>1 E Belt Blvd, Richmond, VA 23224, USA</td>\n",
       "      <td>NaN</td>\n",
       "      <td>37.508531</td>\n",
       "      <td>-77.485949</td>\n",
       "      <td>65.269218</td>\n",
       "      <td>Released</td>\n",
       "    </tr>\n",
       "    <tr>\n",
       "      <th>2</th>\n",
       "      <td>Wildlife Center of Virginia</td>\n",
       "      <td>18-0002667</td>\n",
       "      <td>18-0026</td>\n",
       "      <td>Eastern Screech-Owl</td>\n",
       "      <td>1/11/2018</td>\n",
       "      <td>Collision / Moving object / Car/truck/motorcycle</td>\n",
       "      <td>VA</td>\n",
       "      <td>Bedford County</td>\n",
       "      <td>1 Eagle Eyrie Dr, Lynchburg, VA 24503, USA</td>\n",
       "      <td>NaN</td>\n",
       "      <td>NaN</td>\n",
       "      <td>NaN</td>\n",
       "      <td>NaN</td>\n",
       "      <td>Transferred</td>\n",
       "    </tr>\n",
       "    <tr>\n",
       "      <th>3</th>\n",
       "      <td>Wildlife Center of Virginia</td>\n",
       "      <td>20-0045927</td>\n",
       "      <td>20-2103</td>\n",
       "      <td>Eastern Screech-Owl</td>\n",
       "      <td>6/25/2020</td>\n",
       "      <td>Collision / Moving object / Car/truck/motorcycle</td>\n",
       "      <td>VA</td>\n",
       "      <td>Waynesboro (City)</td>\n",
       "      <td>1 Solutions Way, Waynesboro, VA 22980, USA</td>\n",
       "      <td>NaN</td>\n",
       "      <td>38.091202</td>\n",
       "      <td>-78.870465</td>\n",
       "      <td>384.650391</td>\n",
       "      <td>Euthanized</td>\n",
       "    </tr>\n",
       "    <tr>\n",
       "      <th>4</th>\n",
       "      <td>Wildlife Center of Virginia</td>\n",
       "      <td>23-0014558</td>\n",
       "      <td>23-0938</td>\n",
       "      <td>Eastern Box Turtle</td>\n",
       "      <td>5/5/2023</td>\n",
       "      <td>Collision / Moving object / Car/truck/motorcycle</td>\n",
       "      <td>VA</td>\n",
       "      <td>Louisa County</td>\n",
       "      <td>1 Woolfolk Ave Suite 101 Louisa, VA 23093</td>\n",
       "      <td>NaN</td>\n",
       "      <td>38.022446</td>\n",
       "      <td>-78.005264</td>\n",
       "      <td>135.373962</td>\n",
       "      <td>Released</td>\n",
       "    </tr>\n",
       "  </tbody>\n",
       "</table>\n",
       "</div>"
      ],
      "text/plain": [
       "             Organization Name Case Number Patient ID    Common Species Name  \\\n",
       "0  Wildlife Center of Virginia  19-0041317    19-2111  Yellow-bellied Slider   \n",
       "1  Wildlife Center of Virginia  19-0051154    19-2546     Eastern Box Turtle   \n",
       "2  Wildlife Center of Virginia  18-0002667    18-0026    Eastern Screech-Owl   \n",
       "3  Wildlife Center of Virginia  20-0045927    20-2103    Eastern Screech-Owl   \n",
       "4  Wildlife Center of Virginia  23-0014558    23-0938     Eastern Box Turtle   \n",
       "\n",
       "  Date Admitted                           Circumstances of Rescue  \\\n",
       "0     7/10/2019  Collision / Moving object / Car/truck/motorcycle   \n",
       "1     8/10/2019  Collision / Moving object / Car/truck/motorcycle   \n",
       "2     1/11/2018  Collision / Moving object / Car/truck/motorcycle   \n",
       "3     6/25/2020  Collision / Moving object / Car/truck/motorcycle   \n",
       "4      5/5/2023  Collision / Moving object / Car/truck/motorcycle   \n",
       "\n",
       "  Rescue State Rescue Juristiction  \\\n",
       "0           VA     New Kent County   \n",
       "1           VA     Richmond (City)   \n",
       "2           VA      Bedford County   \n",
       "3           VA   Waynesboro (City)   \n",
       "4           VA       Louisa County   \n",
       "\n",
       "                                      Rescue Address  \\\n",
       "0  1 Cooper Tavern Rd Suite A, Quinton, VA 23141,...   \n",
       "1             1 E Belt Blvd, Richmond, VA 23224, USA   \n",
       "2         1 Eagle Eyrie Dr, Lynchburg, VA 24503, USA   \n",
       "3         1 Solutions Way, Waynesboro, VA 22980, USA   \n",
       "4          1 Woolfolk Ave Suite 101 Louisa, VA 23093   \n",
       "\n",
       "         Other Rescue Information   Latitude  Longitude   Elevation  \\\n",
       "0  0.3 miles from Tom Brooks Lake  37.510148 -77.190808   15.395157   \n",
       "1                             NaN  37.508531 -77.485949   65.269218   \n",
       "2                             NaN        NaN        NaN         NaN   \n",
       "3                             NaN  38.091202 -78.870465  384.650391   \n",
       "4                             NaN  38.022446 -78.005264  135.373962   \n",
       "\n",
       "   Disposition  \n",
       "0     Released  \n",
       "1     Released  \n",
       "2  Transferred  \n",
       "3   Euthanized  \n",
       "4     Released  "
      ]
     },
     "execution_count": 3,
     "metadata": {},
     "output_type": "execute_result"
    }
   ],
   "source": [
    "df.head()"
   ]
  },
  {
   "cell_type": "code",
   "execution_count": 4,
   "metadata": {},
   "outputs": [
    {
     "data": {
      "text/plain": [
       "Index(['Organization Name', 'Case Number', 'Patient ID', 'Common Species Name',\n",
       "       'Date Admitted', 'Circumstances of Rescue', 'Rescue State',\n",
       "       'Rescue Juristiction', 'Rescue Address', 'Other Rescue Information',\n",
       "       'Latitude', 'Longitude', 'Elevation', 'Disposition'],\n",
       "      dtype='object')"
      ]
     },
     "execution_count": 4,
     "metadata": {},
     "output_type": "execute_result"
    }
   ],
   "source": [
    "df.columns"
   ]
  },
  {
   "cell_type": "code",
   "execution_count": 7,
   "metadata": {},
   "outputs": [],
   "source": [
    "# Check that the data is all from VA and that there is only one reason for rescue\n",
    "assert len(df['Circumstances of Rescue'].unique()) == 1\n",
    "assert len(df['Rescue State'].unique()) == 1"
   ]
  },
  {
   "cell_type": "code",
   "execution_count": 13,
   "metadata": {},
   "outputs": [
    {
     "data": {
      "text/plain": [
       "array(['Albemarle County', 'Alleghany County', 'Amherst County',\n",
       "       'Appomattox County', 'Augusta County', 'Bath County',\n",
       "       'Bedford County', 'Botetourt County', 'Buckingham County',\n",
       "       'Buena Vista (City)', 'Campbell County', 'Caroline County',\n",
       "       'Carroll County', 'Charles City County', 'Charlotte County',\n",
       "       'Charlottesville (City)', 'Chesapeake (City)',\n",
       "       'Chesterfield County', 'Colonial Heights (City)',\n",
       "       'Covington (City)', 'Craig County', 'Culpeper County',\n",
       "       'Cumberland County', 'Dickenson County', 'Dinwiddie County',\n",
       "       'Essex County', 'Fairfax County', 'Fauquier County',\n",
       "       'Floyd County', 'Fluvanna County', 'Franklin County',\n",
       "       'Frederick County', 'Fredericksburg (City)', 'Giles County',\n",
       "       'Gloucester County', 'Goochland County', 'Grayson County',\n",
       "       'Greene County', 'Halifax County', 'Hampton (City)',\n",
       "       'Hanover County', 'Harrisonburg (City)', 'Henrico County',\n",
       "       'Highland County', 'James City County', 'King And Queen County',\n",
       "       'King George County', 'Lancaster County', 'Lexington (City)',\n",
       "       'Louisa County', 'Lunenburg County', 'Lynchburg (City)',\n",
       "       'Madison County', 'Mecklenburg County', 'Middlesex County',\n",
       "       'Montgomery County', 'Nelson County', 'New Kent County',\n",
       "       'Newport News (City)', 'Northampton County', 'Nottoway County',\n",
       "       'Orange County', 'Page County', 'Patrick County',\n",
       "       'Pittsylvania County', 'Poquoson (City)', 'Portsmouth (City)',\n",
       "       'Powhatan County', 'Prince Edward County', 'Prince George County',\n",
       "       'Pulaski County', 'Rappahannock County', 'Richmond (City)',\n",
       "       'Richmond County', 'Roanoke (City)', 'Roanoke County',\n",
       "       'Rockbridge County', 'Rockingham County', 'Russell County',\n",
       "       'Salem (City)', 'Scott County', 'Shenandoah County',\n",
       "       'Smyth County', 'Spotsylvania County', 'Stafford County',\n",
       "       'Staunton (City)', 'Suffolk (City)', 'Surry County',\n",
       "       'Tazewell County', 'Virginia Beach (City)', 'Waynesboro (City)',\n",
       "       'Williamsburg (City)', 'Winchester (City)', 'Wythe County'],\n",
       "      dtype=object)"
      ]
     },
     "execution_count": 13,
     "metadata": {},
     "output_type": "execute_result"
    }
   ],
   "source": [
    "# Get all unique values for Rescue Juristiction and sort them in alphabetical order, visually inspect the list\n",
    "juristicions = df['Rescue Juristiction'].unique()\n",
    "juristicions.sort()\n",
    "juristicions"
   ]
  },
  {
   "cell_type": "code",
   "execution_count": null,
   "metadata": {},
   "outputs": [],
   "source": [
    "#TODO Check the species name col for capitalization consistency and spelling errors "
   ]
  }
 ],
 "metadata": {
  "kernelspec": {
   "display_name": "wildlife",
   "language": "python",
   "name": "python3"
  },
  "language_info": {
   "codemirror_mode": {
    "name": "ipython",
    "version": 3
   },
   "file_extension": ".py",
   "mimetype": "text/x-python",
   "name": "python",
   "nbconvert_exporter": "python",
   "pygments_lexer": "ipython3",
   "version": "3.10.12"
  }
 },
 "nbformat": 4,
 "nbformat_minor": 2
}
